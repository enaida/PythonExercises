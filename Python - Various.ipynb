{
 "cells": [
  {
   "cell_type": "code",
   "execution_count": 4,
   "metadata": {},
   "outputs": [
    {
     "name": "stdout",
     "output_type": "stream",
     "text": [
      "3.7.6\n"
     ]
    }
   ],
   "source": [
    "from platform import python_version\n",
    "#python_version()\n",
    "print(python_version())"
   ]
  },
  {
   "cell_type": "code",
   "execution_count": 1,
   "metadata": {},
   "outputs": [],
   "source": [
    "import numpy as np\n",
    "def square (x):\n",
    "    return x*x"
   ]
  },
  {
   "cell_type": "code",
   "execution_count": 2,
   "metadata": {},
   "outputs": [
    {
     "name": "stdout",
     "output_type": "stream",
     "text": [
      "8 squared is 2\n"
     ]
    }
   ],
   "source": [
    "x = np.random.randint(1, 10)\n",
    "y = 2\n",
    "#y = square(x)\n",
    "print('%d squared is %d' % (x, y))"
   ]
  },
  {
   "cell_type": "code",
   "execution_count": 3,
   "metadata": {},
   "outputs": [
    {
     "name": "stdout",
     "output_type": "stream",
     "text": [
      "Is 8 squared 2?\n"
     ]
    }
   ],
   "source": [
    "print('Is %d squared %d?' % (x, y))"
   ]
  },
  {
   "cell_type": "code",
   "execution_count": 4,
   "metadata": {},
   "outputs": [],
   "source": [
    "%matplotlib inline\n",
    "import pandas as pd\n",
    "import matplotlib.pyplot as plt\n",
    "import seaborn as sns "
   ]
  },
  {
   "cell_type": "code",
   "execution_count": 3,
   "metadata": {},
   "outputs": [],
   "source": [
    "df = pd.read_csv(\"Fortune500.csv\")"
   ]
  },
  {
   "cell_type": "code",
   "execution_count": 4,
   "metadata": {},
   "outputs": [
    {
     "data": {
      "text/html": [
       "<div>\n",
       "<style scoped>\n",
       "    .dataframe tbody tr th:only-of-type {\n",
       "        vertical-align: middle;\n",
       "    }\n",
       "\n",
       "    .dataframe tbody tr th {\n",
       "        vertical-align: top;\n",
       "    }\n",
       "\n",
       "    .dataframe thead th {\n",
       "        text-align: right;\n",
       "    }\n",
       "</style>\n",
       "<table border=\"1\" class=\"dataframe\">\n",
       "  <thead>\n",
       "    <tr style=\"text-align: right;\">\n",
       "      <th></th>\n",
       "      <th>Year</th>\n",
       "      <th>Rank</th>\n",
       "      <th>Company</th>\n",
       "      <th>Revenue (in millions)</th>\n",
       "      <th>Profit (in millions)</th>\n",
       "    </tr>\n",
       "  </thead>\n",
       "  <tbody>\n",
       "    <tr>\n",
       "      <th>0</th>\n",
       "      <td>1955</td>\n",
       "      <td>1</td>\n",
       "      <td>General Motors</td>\n",
       "      <td>9823.5</td>\n",
       "      <td>806</td>\n",
       "    </tr>\n",
       "    <tr>\n",
       "      <th>1</th>\n",
       "      <td>1955</td>\n",
       "      <td>2</td>\n",
       "      <td>Exxon Mobil</td>\n",
       "      <td>5661.4</td>\n",
       "      <td>584.8</td>\n",
       "    </tr>\n",
       "    <tr>\n",
       "      <th>2</th>\n",
       "      <td>1955</td>\n",
       "      <td>3</td>\n",
       "      <td>U.S. Steel</td>\n",
       "      <td>3250.4</td>\n",
       "      <td>195.4</td>\n",
       "    </tr>\n",
       "    <tr>\n",
       "      <th>3</th>\n",
       "      <td>1955</td>\n",
       "      <td>4</td>\n",
       "      <td>General Electric</td>\n",
       "      <td>2959.1</td>\n",
       "      <td>212.6</td>\n",
       "    </tr>\n",
       "    <tr>\n",
       "      <th>4</th>\n",
       "      <td>1955</td>\n",
       "      <td>5</td>\n",
       "      <td>Esmark</td>\n",
       "      <td>2510.8</td>\n",
       "      <td>19.1</td>\n",
       "    </tr>\n",
       "  </tbody>\n",
       "</table>\n",
       "</div>"
      ],
      "text/plain": [
       "   Year  Rank           Company  Revenue (in millions) Profit (in millions)\n",
       "0  1955     1    General Motors                 9823.5                  806\n",
       "1  1955     2       Exxon Mobil                 5661.4                584.8\n",
       "2  1955     3        U.S. Steel                 3250.4                195.4\n",
       "3  1955     4  General Electric                 2959.1                212.6\n",
       "4  1955     5            Esmark                 2510.8                 19.1"
      ]
     },
     "execution_count": 4,
     "metadata": {},
     "output_type": "execute_result"
    }
   ],
   "source": [
    "df.head()"
   ]
  },
  {
   "cell_type": "code",
   "execution_count": 5,
   "metadata": {},
   "outputs": [
    {
     "data": {
      "text/html": [
       "<div>\n",
       "<style scoped>\n",
       "    .dataframe tbody tr th:only-of-type {\n",
       "        vertical-align: middle;\n",
       "    }\n",
       "\n",
       "    .dataframe tbody tr th {\n",
       "        vertical-align: top;\n",
       "    }\n",
       "\n",
       "    .dataframe thead th {\n",
       "        text-align: right;\n",
       "    }\n",
       "</style>\n",
       "<table border=\"1\" class=\"dataframe\">\n",
       "  <thead>\n",
       "    <tr style=\"text-align: right;\">\n",
       "      <th></th>\n",
       "      <th>Year</th>\n",
       "      <th>Rank</th>\n",
       "      <th>Company</th>\n",
       "      <th>Revenue (in millions)</th>\n",
       "      <th>Profit (in millions)</th>\n",
       "    </tr>\n",
       "  </thead>\n",
       "  <tbody>\n",
       "    <tr>\n",
       "      <th>25495</th>\n",
       "      <td>2005</td>\n",
       "      <td>496</td>\n",
       "      <td>Wm. Wrigley Jr.</td>\n",
       "      <td>3648.6</td>\n",
       "      <td>493</td>\n",
       "    </tr>\n",
       "    <tr>\n",
       "      <th>25496</th>\n",
       "      <td>2005</td>\n",
       "      <td>497</td>\n",
       "      <td>Peabody Energy</td>\n",
       "      <td>3631.6</td>\n",
       "      <td>175.4</td>\n",
       "    </tr>\n",
       "    <tr>\n",
       "      <th>25497</th>\n",
       "      <td>2005</td>\n",
       "      <td>498</td>\n",
       "      <td>Wendy's International</td>\n",
       "      <td>3630.4</td>\n",
       "      <td>57.8</td>\n",
       "    </tr>\n",
       "    <tr>\n",
       "      <th>25498</th>\n",
       "      <td>2005</td>\n",
       "      <td>499</td>\n",
       "      <td>Kindred Healthcare</td>\n",
       "      <td>3616.6</td>\n",
       "      <td>70.6</td>\n",
       "    </tr>\n",
       "    <tr>\n",
       "      <th>25499</th>\n",
       "      <td>2005</td>\n",
       "      <td>500</td>\n",
       "      <td>Cincinnati Financial</td>\n",
       "      <td>3614.0</td>\n",
       "      <td>584</td>\n",
       "    </tr>\n",
       "  </tbody>\n",
       "</table>\n",
       "</div>"
      ],
      "text/plain": [
       "       Year  Rank                Company  Revenue (in millions)  \\\n",
       "25495  2005   496        Wm. Wrigley Jr.                 3648.6   \n",
       "25496  2005   497         Peabody Energy                 3631.6   \n",
       "25497  2005   498  Wendy's International                 3630.4   \n",
       "25498  2005   499     Kindred Healthcare                 3616.6   \n",
       "25499  2005   500   Cincinnati Financial                 3614.0   \n",
       "\n",
       "      Profit (in millions)  \n",
       "25495                  493  \n",
       "25496                175.4  \n",
       "25497                 57.8  \n",
       "25498                 70.6  \n",
       "25499                  584  "
      ]
     },
     "execution_count": 5,
     "metadata": {},
     "output_type": "execute_result"
    }
   ],
   "source": [
    "df.tail()"
   ]
  },
  {
   "cell_type": "code",
   "execution_count": 6,
   "metadata": {},
   "outputs": [],
   "source": [
    "df.columns = [\"year\", \"rank\", \"company\", \"revenue\", \"profit\"]"
   ]
  },
  {
   "cell_type": "code",
   "execution_count": 7,
   "metadata": {},
   "outputs": [
    {
     "data": {
      "text/plain": [
       "25500"
      ]
     },
     "execution_count": 7,
     "metadata": {},
     "output_type": "execute_result"
    }
   ],
   "source": [
    "len(df)"
   ]
  },
  {
   "cell_type": "code",
   "execution_count": 8,
   "metadata": {},
   "outputs": [
    {
     "data": {
      "text/plain": [
       "year         int64\n",
       "rank         int64\n",
       "company     object\n",
       "revenue    float64\n",
       "profit      object\n",
       "dtype: object"
      ]
     },
     "execution_count": 8,
     "metadata": {},
     "output_type": "execute_result"
    }
   ],
   "source": [
    "df.dtypes"
   ]
  },
  {
   "cell_type": "code",
   "execution_count": 10,
   "metadata": {},
   "outputs": [
    {
     "data": {
      "text/html": [
       "<div>\n",
       "<style scoped>\n",
       "    .dataframe tbody tr th:only-of-type {\n",
       "        vertical-align: middle;\n",
       "    }\n",
       "\n",
       "    .dataframe tbody tr th {\n",
       "        vertical-align: top;\n",
       "    }\n",
       "\n",
       "    .dataframe thead th {\n",
       "        text-align: right;\n",
       "    }\n",
       "</style>\n",
       "<table border=\"1\" class=\"dataframe\">\n",
       "  <thead>\n",
       "    <tr style=\"text-align: right;\">\n",
       "      <th></th>\n",
       "      <th>year</th>\n",
       "      <th>rank</th>\n",
       "      <th>company</th>\n",
       "      <th>revenue</th>\n",
       "      <th>profit</th>\n",
       "    </tr>\n",
       "  </thead>\n",
       "  <tbody>\n",
       "    <tr>\n",
       "      <th>228</th>\n",
       "      <td>1955</td>\n",
       "      <td>229</td>\n",
       "      <td>Norton</td>\n",
       "      <td>135.0</td>\n",
       "      <td>N.A.</td>\n",
       "    </tr>\n",
       "    <tr>\n",
       "      <th>290</th>\n",
       "      <td>1955</td>\n",
       "      <td>291</td>\n",
       "      <td>Schlitz Brewing</td>\n",
       "      <td>100.0</td>\n",
       "      <td>N.A.</td>\n",
       "    </tr>\n",
       "    <tr>\n",
       "      <th>294</th>\n",
       "      <td>1955</td>\n",
       "      <td>295</td>\n",
       "      <td>Pacific Vegetable Oil</td>\n",
       "      <td>97.9</td>\n",
       "      <td>N.A.</td>\n",
       "    </tr>\n",
       "    <tr>\n",
       "      <th>296</th>\n",
       "      <td>1955</td>\n",
       "      <td>297</td>\n",
       "      <td>Liebmann Breweries</td>\n",
       "      <td>96.0</td>\n",
       "      <td>N.A.</td>\n",
       "    </tr>\n",
       "    <tr>\n",
       "      <th>352</th>\n",
       "      <td>1955</td>\n",
       "      <td>353</td>\n",
       "      <td>Minneapolis-Moline</td>\n",
       "      <td>77.4</td>\n",
       "      <td>N.A.</td>\n",
       "    </tr>\n",
       "  </tbody>\n",
       "</table>\n",
       "</div>"
      ],
      "text/plain": [
       "     year  rank                company  revenue profit\n",
       "228  1955   229                 Norton    135.0   N.A.\n",
       "290  1955   291        Schlitz Brewing    100.0   N.A.\n",
       "294  1955   295  Pacific Vegetable Oil     97.9   N.A.\n",
       "296  1955   297     Liebmann Breweries     96.0   N.A.\n",
       "352  1955   353     Minneapolis-Moline     77.4   N.A."
      ]
     },
     "execution_count": 10,
     "metadata": {},
     "output_type": "execute_result"
    }
   ],
   "source": [
    "non_numeric_profits = df.profit.str.contains(\"[^0-9.-]\")\n",
    "df.loc[non_numeric_profits].head()"
   ]
  },
  {
   "cell_type": "code",
   "execution_count": 11,
   "metadata": {},
   "outputs": [
    {
     "data": {
      "text/plain": [
       "{'N.A.'}"
      ]
     },
     "execution_count": 11,
     "metadata": {},
     "output_type": "execute_result"
    }
   ],
   "source": [
    "set(df.profit[non_numeric_profits])"
   ]
  },
  {
   "cell_type": "code",
   "execution_count": 12,
   "metadata": {},
   "outputs": [
    {
     "data": {
      "text/plain": [
       "369"
      ]
     },
     "execution_count": 12,
     "metadata": {},
     "output_type": "execute_result"
    }
   ],
   "source": [
    "len(df.profit[non_numeric_profits])"
   ]
  },
  {
   "cell_type": "code",
   "execution_count": 14,
   "metadata": {},
   "outputs": [
    {
     "data": {
      "image/png": "[encoded data removed]",
      "text/plain": [
       "<Figure size 432x288 with 1 Axes>"
      ]
     },
     "metadata": {
      "needs_background": "light"
     },
     "output_type": "display_data"
    }
   ],
   "source": [
    "bin_sizes, _, _ = plt.hist(df.year[non_numeric_profits], bins=range(1955, 2006))"
   ]
  },
  {
   "cell_type": "code",
   "execution_count": 15,
   "metadata": {},
   "outputs": [],
   "source": [
    "df = df.loc[~non_numeric_profits]\n",
    "df.profit = df.profit.apply(pd.to_numeric)"
   ]
  },
  {
   "cell_type": "code",
   "execution_count": 16,
   "metadata": {},
   "outputs": [
    {
     "data": {
      "text/plain": [
       "25131"
      ]
     },
     "execution_count": 16,
     "metadata": {},
     "output_type": "execute_result"
    }
   ],
   "source": [
    "len(df)"
   ]
  },
  {
   "cell_type": "code",
   "execution_count": 17,
   "metadata": {},
   "outputs": [
    {
     "data": {
      "text/plain": [
       "year         int64\n",
       "rank         int64\n",
       "company     object\n",
       "revenue    float64\n",
       "profit     float64\n",
       "dtype: object"
      ]
     },
     "execution_count": 17,
     "metadata": {},
     "output_type": "execute_result"
    }
   ],
   "source": [
    "df.dtypes"
   ]
  },
  {
   "cell_type": "code",
   "execution_count": 20,
   "metadata": {},
   "outputs": [
    {
     "data": {
      "text/plain": [
       "'C:\\\\Users\\\\enaid_000'"
      ]
     },
     "execution_count": 20,
     "metadata": {},
     "output_type": "execute_result"
    }
   ],
   "source": [
    "pwd"
   ]
  },
  {
   "cell_type": "code",
   "execution_count": 1,
   "metadata": {},
   "outputs": [
    {
     "data": {
      "application/json": {
       "cell": {
        "!": "OSMagics",
        "HTML": "Other",
        "SVG": "Other",
        "bash": "Other",
        "capture": "ExecutionMagics",
        "cmd": "Other",
        "debug": "ExecutionMagics",
        "file": "Other",
        "html": "DisplayMagics",
        "javascript": "DisplayMagics",
        "js": "DisplayMagics",
        "latex": "DisplayMagics",
        "markdown": "DisplayMagics",
        "perl": "Other",
        "prun": "ExecutionMagics",
        "pypy": "Other",
        "python": "Other",
        "python2": "Other",
        "python3": "Other",
        "ruby": "Other",
        "script": "ScriptMagics",
        "sh": "Other",
        "svg": "DisplayMagics",
        "sx": "OSMagics",
        "system": "OSMagics",
        "time": "ExecutionMagics",
        "timeit": "ExecutionMagics",
        "writefile": "OSMagics"
       },
       "line": {
        "alias": "OSMagics",
        "alias_magic": "BasicMagics",
        "autoawait": "AsyncMagics",
        "autocall": "AutoMagics",
        "automagic": "AutoMagics",
        "autosave": "KernelMagics",
        "bookmark": "OSMagics",
        "cd": "OSMagics",
        "clear": "KernelMagics",
        "cls": "KernelMagics",
        "colors": "BasicMagics",
        "conda": "PackagingMagics",
        "config": "ConfigMagics",
        "connect_info": "KernelMagics",
        "copy": "Other",
        "ddir": "Other",
        "debug": "ExecutionMagics",
        "dhist": "OSMagics",
        "dirs": "OSMagics",
        "doctest_mode": "BasicMagics",
        "echo": "Other",
        "ed": "Other",
        "edit": "KernelMagics",
        "env": "OSMagics",
        "gui": "BasicMagics",
        "hist": "Other",
        "history": "HistoryMagics",
        "killbgscripts": "ScriptMagics",
        "ldir": "Other",
        "less": "KernelMagics",
        "load": "CodeMagics",
        "load_ext": "ExtensionMagics",
        "loadpy": "CodeMagics",
        "logoff": "LoggingMagics",
        "logon": "LoggingMagics",
        "logstart": "LoggingMagics",
        "logstate": "LoggingMagics",
        "logstop": "LoggingMagics",
        "ls": "Other",
        "lsmagic": "BasicMagics",
        "macro": "ExecutionMagics",
        "magic": "BasicMagics",
        "matplotlib": "PylabMagics",
        "mkdir": "Other",
        "more": "KernelMagics",
        "notebook": "BasicMagics",
        "page": "BasicMagics",
        "pastebin": "CodeMagics",
        "pdb": "ExecutionMagics",
        "pdef": "NamespaceMagics",
        "pdoc": "NamespaceMagics",
        "pfile": "NamespaceMagics",
        "pinfo": "NamespaceMagics",
        "pinfo2": "NamespaceMagics",
        "pip": "PackagingMagics",
        "popd": "OSMagics",
        "pprint": "BasicMagics",
        "precision": "BasicMagics",
        "prun": "ExecutionMagics",
        "psearch": "NamespaceMagics",
        "psource": "NamespaceMagics",
        "pushd": "OSMagics",
        "pwd": "OSMagics",
        "pycat": "OSMagics",
        "pylab": "PylabMagics",
        "qtconsole": "KernelMagics",
        "quickref": "BasicMagics",
        "recall": "HistoryMagics",
        "rehashx": "OSMagics",
        "reload_ext": "ExtensionMagics",
        "ren": "Other",
        "rep": "Other",
        "rerun": "HistoryMagics",
        "reset": "NamespaceMagics",
        "reset_selective": "NamespaceMagics",
        "rmdir": "Other",
        "run": "ExecutionMagics",
        "save": "CodeMagics",
        "sc": "OSMagics",
        "set_env": "OSMagics",
        "store": "StoreMagics",
        "sx": "OSMagics",
        "system": "OSMagics",
        "tb": "ExecutionMagics",
        "time": "ExecutionMagics",
        "timeit": "ExecutionMagics",
        "unalias": "OSMagics",
        "unload_ext": "ExtensionMagics",
        "who": "NamespaceMagics",
        "who_ls": "NamespaceMagics",
        "whos": "NamespaceMagics",
        "xdel": "NamespaceMagics",
        "xmode": "BasicMagics"
       }
      },
      "text/plain": [
       "Available line magics:\n",
       "%alias  %alias_magic  %autoawait  %autocall  %automagic  %autosave  %bookmark  %cd  %clear  %cls  %colors  %conda  %config  %connect_info  %copy  %ddir  %debug  %dhist  %dirs  %doctest_mode  %echo  %ed  %edit  %env  %gui  %hist  %history  %killbgscripts  %ldir  %less  %load  %load_ext  %loadpy  %logoff  %logon  %logstart  %logstate  %logstop  %ls  %lsmagic  %macro  %magic  %matplotlib  %mkdir  %more  %notebook  %page  %pastebin  %pdb  %pdef  %pdoc  %pfile  %pinfo  %pinfo2  %pip  %popd  %pprint  %precision  %prun  %psearch  %psource  %pushd  %pwd  %pycat  %pylab  %qtconsole  %quickref  %recall  %rehashx  %reload_ext  %ren  %rep  %rerun  %reset  %reset_selective  %rmdir  %run  %save  %sc  %set_env  %store  %sx  %system  %tb  %time  %timeit  %unalias  %unload_ext  %who  %who_ls  %whos  %xdel  %xmode\n",
       "\n",
       "Available cell magics:\n",
       "%%!  %%HTML  %%SVG  %%bash  %%capture  %%cmd  %%debug  %%file  %%html  %%javascript  %%js  %%latex  %%markdown  %%perl  %%prun  %%pypy  %%python  %%python2  %%python3  %%ruby  %%script  %%sh  %%svg  %%sx  %%system  %%time  %%timeit  %%writefile\n",
       "\n",
       "Automagic is ON, % prefix IS NOT needed for line magics."
      ]
     },
     "execution_count": 1,
     "metadata": {},
     "output_type": "execute_result"
    }
   ],
   "source": [
    "%lsmagic"
   ]
  },
  {
   "cell_type": "code",
   "execution_count": 2,
   "metadata": {},
   "outputs": [],
   "source": [
    "help?"
   ]
  },
  {
   "cell_type": "code",
   "execution_count": null,
   "metadata": {},
   "outputs": [
    {
     "name": "stdout",
     "output_type": "stream",
     "text": [
      "\n",
      "Welcome to Python 3.7's help utility!\n",
      "\n",
      "If this is your first time using Python, you should definitely check out\n",
      "the tutorial on the Internet at https://docs.python.org/3.7/tutorial/.\n",
      "\n",
      "Enter the name of any module, keyword, or topic to get help on writing\n",
      "Python programs and using Python modules.  To quit this help utility and\n",
      "return to the interpreter, just type \"quit\".\n",
      "\n",
      "To get a list of available modules, keywords, symbols, or topics, type\n",
      "\"modules\", \"keywords\", \"symbols\", or \"topics\".  Each module also comes\n",
      "with a one-line summary of what it does; to list the modules whose name\n",
      "or summary contain a given string such as \"spam\", type \"modules spam\".\n",
      "\n",
      "help> \"modules\"\n",
      "\n",
      "Please wait a moment while I gather a list of all available modules...\n",
      "\n"
     ]
    },
    {
     "name": "stderr",
     "output_type": "stream",
     "text": [
      "C:\\Users\\enaid_000\\anaconda3\\lib\\site-packages\\IPython\\kernel\\__init__.py:13: ShimWarning: The `IPython.kernel` package has been deprecated since IPython 4.0.You should import from ipykernel or jupyter_client instead.\n",
      "  \"You should import from ipykernel or jupyter_client instead.\", ShimWarning)\n",
      "distributed.dashboard.proxy - INFO - To route to workers diagnostics web server please install jupyter-server-proxy: python -m pip install jupyter-server-proxy\n",
      "C:\\Users\\enaid_000\\anaconda3\\lib\\pkgutil.py:92: MatplotlibDeprecationWarning: \n",
      "The matplotlib.compat module was deprecated in Matplotlib 3.3 and will be removed two minor releases later.\n",
      "  __import__(info.name)\n",
      "C:\\Users\\enaid_000\\anaconda3\\lib\\site-packages\\nltk\\twitter\\__init__.py:22: UserWarning: The twython library has not been installed. Some functionality from the twitter package will not be available.\n",
      "  \"The twython library has not been installed. \"\n",
      "C:\\Users\\enaid_000\\anaconda3\\lib\\site-packages\\skimage\\viewer\\utils\\__init__.py:1: UserWarning: Recommended matplotlib backend is `Agg` for full skimage.viewer functionality.\n",
      "  from .core import *\n",
      "C:\\Users\\enaid_000\\anaconda3\\lib\\site-packages\\sklearn\\externals\\joblib\\__init__.py:15: FutureWarning: sklearn.externals.joblib is deprecated in 0.21 and will be removed in 0.23. Please import this functionality directly from joblib, which can be installed with: pip install joblib. If this warning is raised when loading pickled models, you may need to re-serialize those models with scikit-learn 0.21+.\n",
      "  warnings.warn(msg, category=FutureWarning)\n",
      "C:\\Users\\enaid_000\\anaconda3\\lib\\site-packages\\qtawesome\\iconic_font.py:312: UserWarning: You need to have a running QApplication to use QtAwesome!\n",
      "  warnings.warn(\"You need to have a running \"\n"
     ]
    },
    {
     "name": "stdout",
     "output_type": "stream",
     "text": [
      "_cffi_ext.c\r\n",
      "anaconda3\\lib\\site-packages\\zmq\\backend\\cffi\\__pycache__\\_cffi_ext.c(266): fatal error C1083: Cannot open include file: 'sys/un.h': No such file or directory\r\n"
     ]
    },
    {
     "name": "stderr",
     "output_type": "stream",
     "text": [
      "C:\\Users\\enaid_000\\anaconda3\\lib\\pkgutil.py:107: VisibleDeprecationWarning: zmq.eventloop.minitornado is deprecated in pyzmq 14.0 and will be removed.\n",
      "    Install tornado itself to use zmq with the tornado IOLoop.\n",
      "    \n",
      "  yield from walk_packages(path, info.name+'.', onerror)\n"
     ]
    },
    {
     "name": "stdout",
     "output_type": "stream",
     "text": [
      "Crypto              brain_subprocess    matplotlib          smtplib\n",
      "Cython              brain_threading     mccabe              sndhdr\n",
      "IPython             brain_typing        menuinst            snowballstemmer\n",
      "OpenSSL             brain_uuid          mimetypes           socket\n",
      "PIL                 bs4                 mistune             socketserver\n",
      "PyQt5               builtins            mkl                 socks\n",
      "__future__          bz2                 mkl_fft             sockshandler\n",
      "_abc                cProfile            mkl_random          sortedcollections\n",
      "_ast                calendar            mmap                sortedcontainers\n",
      "_asyncio            certifi             mmapfile            soupsieve\n",
      "_bisect             cffi                mmsystem            sphinx\n",
      "_blake2             cgi                 mock                sphinxcontrib\n",
      "_bootlocale         cgitb               modulefinder        spyder\n",
      "_bz2                chardet             more_itertools      spyder_kernels\n",
      "_cffi_backend       chunk               mpmath              sqlalchemy\n",
      "_codecs             click               msgpack             sqlite3\n",
      "_codecs_cn          cloudpickle         msilib              sre_compile\n",
      "_codecs_hk          clyent              msvcrt              sre_constants\n",
      "_codecs_iso2022     cmath               multipledispatch    sre_parse\n",
      "_codecs_jp          cmd                 multiprocessing     ssl\n",
      "_codecs_kr          code                nacl                sspi\n",
      "_codecs_tw          codecs              navigator_updater   sspicon\n",
      "_collections        codeop              nb_conda_kernels    stat\n",
      "_collections_abc    collections         nbconvert           statistics\n",
      "_compat_pickle      colorama            nbformat            statsmodels\n",
      "_compression        colorsys            netbios             storemagic\n",
      "_contextvars        commctrl            netrc               string\n",
      "_csv                compileall          networkx            stringprep\n",
      "_ctypes             comtypes            nltk                struct\n",
      "_ctypes_test        concurrent          nntplib             subprocess\n",
      "_datetime           conda               nose                sunau\n",
      "_decimal            conda_build         notebook            symbol\n",
      "_dummy_thread       conda_env           nt                  sympy\n",
      "_elementtree        conda_package_handling ntpath              sympyprinting\n",
      "_functools          conda_verify        ntsecuritycon       symtable\n",
      "_hashlib            configparser        nturl2path          sys\n",
      "_heapq              contextlib          numba               sysconfig\n",
      "_imp                contextlib2         numbers             tables\n",
      "_io                 contextvars         numexpr             tabnanny\n",
      "_json               copy                numpy               tarfile\n",
      "_locale             copyreg             numpydoc            tblib\n",
      "_lsprof             crypt               odbc                telnetlib\n",
      "_lzma               cryptography        olefile             tempfile\n",
      "_markupbase         csv                 opcode              terminado\n",
      "_md5                ctypes              openpyxl            test\n",
      "_msi                curl                operator            test_data\n",
      "_multibytecodec     curses              optparse            test_pycosat\n",
      "_multiprocessing    cwp                 os                  testpath\n",
      "_nsis               cycler              packaging           tests\n",
      "_opcode             cython              pandas              textwrap\n",
      "_operator           cythonmagic         pandocfilters       this\n",
      "_osx_support        cytoolz             paramiko            threading\n",
      "_overlapped         dask                parser              time\n",
      "_pickle             dataclasses         parso               timeit\n",
      "_py_abc             datetime            partd               timer\n",
      "_pydecimal          dateutil            past                tkinter\n",
      "_pyio               dbi                 path                tlz\n",
      "_pylief             dbm                 pathlib             token\n",
      "_pyrsistent_version dde                 pathlib2            tokenize\n",
      "_pytest             decimal             pathtools           toolz\n",
      "_queue              decorator           patsy               tornado\n",
      "_random             defusedxml          pdb                 tqdm\n",
      "_sha1               diff_match_patch    pep8                trace\n",
      "_sha256             difflib             perfmon             traceback\n",
      "_sha3               dis                 pexpect             tracemalloc\n",
      "_sha512             distributed         pickle              traitlets\n",
      "_signal             distutils           pickleshare         tty\n",
      "_sitebuiltins       doctest             pickletools         turtle\n",
      "_socket             docutils            pip                 turtledemo\n",
      "_sqlite3            dummy_threading     pipes               types\n",
      "_sre                easy_install        pkg_resources       typing\n",
      "_ssl                email               pkginfo             ujson\n",
      "_stat               encodings           pkgutil             unicodecsv\n",
      "_string             ensurepip           platform            unicodedata\n",
      "_strptime           entrypoints         plistlib            unittest\n",
      "_struct             enum                pluggy              urllib\n",
      "_symtable           errno               ply                 urllib3\n",
      "_system_path        et_xmlfile          poplib              uu\n",
      "_testbuffer         fastcache           posixpath           uuid\n",
      "_testcapi           faulthandler        pprint              venv\n",
      "_testconsole        filecmp             profile             warnings\n",
      "_testimportmultiple fileinput           prometheus_client   watchdog\n",
      "_testmultiphase     filelock            prompt_toolkit      wave\n",
      "_thread             flake8              pstats              wcwidth\n",
      "_threading_local    flask               psutil              weakref\n",
      "_tkinter            fnmatch             pty                 webbrowser\n",
      "_tracemalloc        formatter           pvectorc            webencodings\n",
      "_warnings           fractions           py                  werkzeug\n",
      "_weakref            fsspec              py_compile          wheel\n",
      "_weakrefset         ftplib              pyclbr              widgetsnbextension\n",
      "_win32sysloader     functools           pycodestyle         win2kras\n",
      "_winapi             future              pycosat             win32api\n",
      "_winxptheme         gc                  pycparser           win32clipboard\n",
      "_yaml               genericpath         pycurl              win32com\n",
      "abc                 getopt              pydoc               win32con\n",
      "adodbapi            getpass             pydoc_data          win32console\n",
      "afxres              gettext             pydocstyle          win32cred\n",
      "aifc                gevent              pyexpat             win32crypt\n",
      "alabaster           glob                pyflakes            win32cryptcon\n",
      "anaconda_navigator  glob2               pygments            win32ctypes\n",
      "anaconda_project    greenlet            pylab               win32event\n",
      "antigravity         gzip                pylint              win32evtlog\n",
      "argh                h5py                pyls                win32evtlogutil\n",
      "argparse            hashlib             pyls_jsonrpc        win32file\n",
      "array               heapdict            pyodbc              win32gui\n",
      "asn1crypto          heapq               pyparsing           win32gui_struct\n",
      "ast                 hmac                pyreadline          win32help\n",
      "astroid             html                pyrsistent          win32inet\n",
      "astropy             html5lib            pytest              win32inetcon\n",
      "asynchat            http                pytest_arraydiff    win32job\n",
      "asyncio             hypothesis          pytest_astropy_header win32lz\n",
      "asyncore            idlelib             pytest_doctestplus  win32net\n",
      "atexit              idna                pytest_openfiles    win32netcon\n",
      "atomicwrites        imageio             pytest_remotedata   win32pdh\n",
      "attr                imagesize           pythoncom           win32pdhquery\n",
      "audioop             imaplib             pytz                win32pdhutil\n",
      "autopep8            imghdr              pywin               win32pipe\n",
      "autoreload          imp                 pywin32_bootstrap   win32print\n",
      "babel               importlib           pywin32_testutil    win32process\n",
      "backcall            importlib_metadata  pywintypes          win32profile\n",
      "backports           inspect             pywt                win32ras\n",
      "base64              intervaltree        pyximport           win32rcparser\n",
      "bcrypt              io                  qdarkstyle          win32security\n",
      "bdb                 ipaddress           qtawesome           win32service\n",
      "binascii            ipykernel           qtconsole           win32serviceutil\n",
      "binhex              ipykernel_launcher  qtpy                win32timezone\n",
      "binstar_client      ipython_genutils    queue               win32trace\n",
      "bisect              ipywidgets          quopri              win32traceutil\n",
      "bitarray            isapi               random              win32transaction\n",
      "bkcharts            isort               rasutil             win32ts\n",
      "bleach              isympy              re                  win32ui\n",
      "bokeh               itertools           readline            win32uiole\n",
      "boto                itsdangerous        regcheck            win32verstamp\n",
      "bottleneck          jdcal               regutil             win32wnet\n",
      "brain_argparse      jedi                reprlib             win_inet_pton\n",
      "brain_attrs         jinja2              requests            win_unicode_console\n",
      "brain_builtin_inference joblib              rlcompleter         wincertstore\n",
      "brain_collections   json                rmagic              winerror\n",
      "brain_crypt         json5               rope                winioctlcon\n",
      "brain_curses        jsonschema          rtree               winnt\n",
      "brain_dataclasses   jupyter             ruamel_yaml         winperf\n",
      "brain_dateutil      jupyter_client      run                 winpty\n",
      "brain_fstrings      jupyter_console     runpy               winreg\n",
      "brain_functools     jupyter_core        sched               winsound\n",
      "brain_gi            jupyterlab          scipy               winxpgui\n",
      "brain_hashlib       jupyterlab_server   scripts             winxptheme\n",
      "brain_http          keyring             seaborn             wrapt\n",
      "brain_io            keyword             secrets             wsgiref\n",
      "brain_mechanize     kiwisolver          select              xdrlib\n",
      "brain_multiprocessing lazy_object_proxy   selectors           xlrd\n",
      "brain_namedtuple_enum lib2to3             send2trash          xlsxwriter\n",
      "brain_nose          libarchive          servicemanager      xlwings\n",
      "brain_numpy_core_fromnumeric libfuturize         setuptools          xlwt\n",
      "brain_numpy_core_function_base libpasteurize       shelve              xml\n",
      "brain_numpy_core_multiarray lief                shlex               xmlrpc\n",
      "brain_numpy_core_numeric linecache           shutil              xmltodict\n",
      "brain_numpy_core_numerictypes llvmlite            signal              xxsubtype\n",
      "brain_numpy_core_umath locale              simplegeneric       yaml\n",
      "brain_numpy_ndarray locket              singledispatch      yapf\n",
      "brain_numpy_random_mtrand logging             singledispatch_helpers yapftests\n",
      "brain_numpy_utils   lxml                sip                 zict\n",
      "brain_pkg_resources lzma                sipconfig           zipapp\n",
      "brain_pytest        macpath             sipdistutils        zipfile\n",
      "brain_qt            mailbox             site                zipimport\n",
      "brain_random        mailcap             six                 zipp\n",
      "brain_re            markupsafe          skimage             zlib\n",
      "brain_six           marshal             sklearn             zmq\n",
      "brain_ssl           math                smtpd               \n",
      "\n",
      "Enter any module name to get more help.  Or, type \"modules spam\" to search\n",
      "for modules whose name or summary contain the string \"spam\".\n",
      "\n",
      "help> matplotlib\n",
      "Help on package matplotlib:\n",
      "\n",
      "NAME\n",
      "    matplotlib - An object-oriented plotting library.\n",
      "\n",
      "DESCRIPTION\n",
      "    A procedural interface is provided by the companion pyplot module,\n",
      "    which may be imported directly, e.g.::\n",
      "    \n",
      "        import matplotlib.pyplot as plt\n",
      "    \n",
      "    or using ipython::\n",
      "    \n",
      "        ipython\n",
      "    \n",
      "    at your terminal, followed by::\n",
      "    \n",
      "        In [1]: %matplotlib\n",
      "        In [2]: import matplotlib.pyplot as plt\n",
      "    \n",
      "    at the ipython shell prompt.\n",
      "    \n",
      "    For the most part, direct use of the object-oriented library is encouraged when\n",
      "    programming; pyplot is primarily for working interactively.  The exceptions are\n",
      "    the pyplot functions `.pyplot.figure`, `.pyplot.subplot`, `.pyplot.subplots`,\n",
      "    and `.pyplot.savefig`, which can greatly simplify scripting.\n",
      "    \n",
      "    Modules include:\n",
      "    \n",
      "        :mod:`matplotlib.axes`\n",
      "            The `~.axes.Axes` class.  Most pyplot functions are wrappers for\n",
      "            `~.axes.Axes` methods.  The axes module is the highest level of OO\n",
      "            access to the library.\n",
      "    \n",
      "        :mod:`matplotlib.figure`\n",
      "            The `.Figure` class.\n",
      "    \n",
      "        :mod:`matplotlib.artist`\n",
      "            The `.Artist` base class for all classes that draw things.\n",
      "    \n",
      "        :mod:`matplotlib.lines`\n",
      "            The `.Line2D` class for drawing lines and markers.\n",
      "    \n",
      "        :mod:`matplotlib.patches`\n",
      "            Classes for drawing polygons.\n",
      "    \n",
      "        :mod:`matplotlib.text`\n",
      "            The `.Text` and `.Annotation` classes.\n",
      "    \n",
      "        :mod:`matplotlib.image`\n",
      "            The `.AxesImage` and `.FigureImage` classes.\n",
      "    \n",
      "        :mod:`matplotlib.collections`\n",
      "            Classes for efficient drawing of groups of lines or polygons.\n",
      "    \n",
      "        :mod:`matplotlib.colors`\n",
      "            Color specifications and making colormaps.\n",
      "    \n",
      "        :mod:`matplotlib.cm`\n",
      "            Colormaps, and the `.ScalarMappable` mixin class for providing color\n",
      "            mapping functionality to other classes.\n",
      "    \n",
      "        :mod:`matplotlib.ticker`\n",
      "            Calculation of tick mark locations and formatting of tick labels.\n",
      "    \n",
      "        :mod:`matplotlib.backends`\n",
      "            A subpackage with modules for various GUI libraries and output formats.\n",
      "    \n",
      "    The base matplotlib namespace includes:\n",
      "    \n",
      "        `~matplotlib.rcParams`\n",
      "            Default configuration settings; their defaults may be overridden using\n",
      "            a :file:`matplotlibrc` file.\n",
      "    \n",
      "        `~matplotlib.use`\n",
      "            Setting the Matplotlib backend.  This should be called before any\n",
      "            figure is created, because it is not possible to switch between\n",
      "            different GUI backends after that.\n",
      "    \n",
      "    Matplotlib was initially written by John D. Hunter (1968-2012) and is now\n",
      "    developed and maintained by a host of others.\n",
      "    \n",
      "    Occasionally the internal documentation (python docstrings) will refer\n",
      "    to MATLAB&reg;, a registered trademark of The MathWorks, Inc.\n",
      "\n",
      "PACKAGE CONTENTS\n",
      "    _animation_data\n",
      "    _api (package)\n",
      "    _c_internal_utils\n",
      "    _cm\n",
      "    _cm_listed\n",
      "    _color_data\n",
      "    _constrained_layout\n",
      "    _contour\n",
      "    _enums\n",
      "    _image\n",
      "    _internal_utils\n",
      "    _layoutgrid\n",
      "    _mathtext\n",
      "    _mathtext_data\n",
      "    _path\n",
      "    _pylab_helpers\n",
      "    _qhull\n",
      "    _text_layout\n",
      "    _tri\n",
      "    _ttconv\n",
      "    _version\n",
      "    afm\n",
      "    animation\n",
      "    artist\n",
      "    axes (package)\n",
      "    axis\n",
      "    backend_bases\n",
      "    backend_managers\n",
      "    backend_tools\n",
      "    backends (package)\n",
      "    bezier\n",
      "    blocking_input\n",
      "    category\n",
      "    cbook (package)\n",
      "    cm\n",
      "    collections\n",
      "    colorbar\n",
      "    colors\n",
      "    compat (package)\n",
      "    container\n",
      "    contour\n",
      "    dates\n",
      "    docstring\n",
      "    dviread\n",
      "    figure\n",
      "    font_manager\n",
      "    fontconfig_pattern\n",
      "    ft2font\n",
      "    gridspec\n",
      "    hatch\n",
      "    image\n",
      "    legend\n",
      "    legend_handler\n",
      "    lines\n",
      "    markers\n",
      "    mathtext\n",
      "    mlab\n",
      "    offsetbox\n",
      "    patches\n",
      "    path\n",
      "    patheffects\n",
      "    projections (package)\n",
      "    pylab\n",
      "    pyplot\n",
      "    quiver\n",
      "    rcsetup\n",
      "    sankey\n",
      "    scale\n",
      "    sphinxext (package)\n",
      "    spines\n",
      "    stackplot\n",
      "    streamplot\n",
      "    style (package)\n",
      "    table\n",
      "    testing (package)\n",
      "    tests (package)\n",
      "    texmanager\n",
      "    text\n",
      "    textpath\n",
      "    ticker\n",
      "    tight_bbox\n",
      "    tight_layout\n",
      "    transforms\n",
      "    tri (package)\n",
      "    ttconv\n",
      "    type1font\n",
      "    units\n",
      "    widgets\n",
      "\n",
      "CLASSES\n",
      "    builtins.FileNotFoundError(builtins.OSError)\n",
      "        ExecutableNotFoundError\n",
      "    builtins.dict(builtins.object)\n",
      "        RcParams(collections.abc.MutableMapping, builtins.dict)\n",
      "    collections.abc.MutableMapping(collections.abc.Mapping)\n",
      "        RcParams(collections.abc.MutableMapping, builtins.dict)\n",
      "    \n",
      "    class ExecutableNotFoundError(builtins.FileNotFoundError)\n",
      "     |  Error raised when an executable that Matplotlib optionally\n",
      "     |  depends on can't be found.\n",
      "     |  \n",
      "     |  Method resolution order:\n",
      "     |      ExecutableNotFoundError\n",
      "     |      builtins.FileNotFoundError\n",
      "     |      builtins.OSError\n",
      "     |      builtins.Exception\n",
      "     |      builtins.BaseException\n",
      "     |      builtins.object\n",
      "     |  \n",
      "     |  Data descriptors defined here:\n",
      "     |  \n",
      "     |  __weakref__\n",
      "     |      list of weak references to the object (if defined)\n",
      "     |  \n",
      "     |  ----------------------------------------------------------------------\n",
      "     |  Methods inherited from builtins.FileNotFoundError:\n",
      "     |  \n",
      "     |  __init__(self, /, *args, **kwargs)\n",
      "     |      Initialize self.  See help(type(self)) for accurate signature.\n",
      "     |  \n",
      "     |  ----------------------------------------------------------------------\n",
      "     |  Methods inherited from builtins.OSError:\n",
      "     |  \n",
      "     |  __reduce__(...)\n",
      "     |      Helper for pickle.\n",
      "     |  \n",
      "     |  __str__(self, /)\n",
      "     |      Return str(self).\n",
      "     |  \n",
      "     |  ----------------------------------------------------------------------\n",
      "     |  Static methods inherited from builtins.OSError:\n",
      "     |  \n",
      "     |  __new__(*args, **kwargs) from builtins.type\n",
      "     |      Create and return a new object.  See help(type) for accurate signature.\n",
      "     |  \n",
      "     |  ----------------------------------------------------------------------\n",
      "     |  Data descriptors inherited from builtins.OSError:\n",
      "     |  \n",
      "     |  characters_written\n",
      "     |  \n",
      "     |  errno\n",
      "     |      POSIX exception code\n",
      "     |  \n",
      "     |  filename\n",
      "     |      exception filename\n",
      "     |  \n",
      "     |  filename2\n",
      "     |      second exception filename\n",
      "     |  \n",
      "     |  strerror\n",
      "     |      exception strerror\n",
      "     |  \n",
      "     |  winerror\n",
      "     |      Win32 exception code\n",
      "     |  \n",
      "     |  ----------------------------------------------------------------------\n",
      "     |  Methods inherited from builtins.BaseException:\n",
      "     |  \n",
      "     |  __delattr__(self, name, /)\n",
      "     |      Implement delattr(self, name).\n",
      "     |  \n",
      "     |  __getattribute__(self, name, /)\n",
      "     |      Return getattr(self, name).\n",
      "     |  \n",
      "     |  __repr__(self, /)\n",
      "     |      Return repr(self).\n",
      "     |  \n",
      "     |  __setattr__(self, name, value, /)\n",
      "     |      Implement setattr(self, name, value).\n",
      "     |  \n",
      "     |  __setstate__(...)\n",
      "     |  \n",
      "     |  with_traceback(...)\n",
      "     |      Exception.with_traceback(tb) --\n",
      "     |      set self.__traceback__ to tb and return self.\n",
      "     |  \n",
      "     |  ----------------------------------------------------------------------\n",
      "     |  Data descriptors inherited from builtins.BaseException:\n",
      "     |  \n",
      "     |  __cause__\n",
      "     |      exception cause\n",
      "     |  \n",
      "     |  __context__\n",
      "     |      exception context\n",
      "     |  \n",
      "     |  __dict__\n",
      "     |  \n",
      "     |  __suppress_context__\n",
      "     |  \n",
      "     |  __traceback__\n",
      "     |  \n",
      "     |  args\n",
      "    \n",
      "    class RcParams(collections.abc.MutableMapping, builtins.dict)\n",
      "     |  RcParams(*args, **kwargs)\n",
      "     |  \n",
      "     |  A dictionary object including validation.\n",
      "     |  \n",
      "     |  Validating functions are defined and associated with rc parameters in\n",
      "     |  :mod:`matplotlib.rcsetup`.\n",
      "     |  \n",
      "     |  The list of rcParams is:\n",
      "     |  \n",
      "     |  - backend\n",
      "     |  - backend_fallback\n",
      "     |  - toolbar\n",
      "     |  - interactive\n",
      "     |  - timezone\n",
      "     |  - webagg.port\n",
      "     |  - webagg.address\n",
      "     |  - webagg.open_in_browser\n",
      "     |  - webagg.port_retries\n",
      "     |  - lines.linewidth\n",
      "     |  - lines.linestyle\n",
      "     |  - lines.color\n",
      "     |  - lines.marker\n",
      "     |  - lines.markerfacecolor\n",
      "     |  - lines.markeredgecolor\n",
      "     |  - lines.markeredgewidth\n",
      "     |  - lines.markersize\n",
      "     |  - lines.antialiased\n",
      "     |  - lines.dash_joinstyle\n",
      "     |  - lines.solid_joinstyle\n",
      "     |  - lines.dash_capstyle\n",
      "     |  - lines.solid_capstyle\n",
      "     |  - lines.dashed_pattern\n",
      "     |  - lines.dashdot_pattern\n",
      "     |  - lines.dotted_pattern\n",
      "     |  - lines.scale_dashes\n",
      "     |  - markers.fillstyle\n",
      "     |  - pcolor.shading\n",
      "     |  - pcolormesh.snap\n",
      "     |  - patch.linewidth\n",
      "     |  - patch.edgecolor\n",
      "     |  - patch.force_edgecolor\n",
      "     |  - patch.facecolor\n",
      "     |  - patch.antialiased\n",
      "     |  - hatch.color\n",
      "     |  - hatch.linewidth\n",
      "     |  - hist.bins\n",
      "     |  - boxplot.notch\n",
      "     |  - boxplot.vertical\n",
      "     |  - boxplot.whiskers\n",
      "     |  - boxplot.bootstrap\n",
      "     |  - boxplot.patchartist\n",
      "     |  - boxplot.showmeans\n",
      "     |  - boxplot.showcaps\n",
      "     |  - boxplot.showbox\n",
      "     |  - boxplot.showfliers\n",
      "     |  - boxplot.meanline\n",
      "     |  - boxplot.flierprops.color\n",
      "     |  - boxplot.flierprops.marker\n",
      "     |  - boxplot.flierprops.markerfacecolor\n",
      "     |  - boxplot.flierprops.markeredgecolor\n",
      "     |  - boxplot.flierprops.markeredgewidth\n",
      "     |  - boxplot.flierprops.markersize\n",
      "     |  - boxplot.flierprops.linestyle\n",
      "     |  - boxplot.flierprops.linewidth\n",
      "     |  - boxplot.boxprops.color\n",
      "     |  - boxplot.boxprops.linewidth\n",
      "     |  - boxplot.boxprops.linestyle\n",
      "     |  - boxplot.whiskerprops.color\n",
      "     |  - boxplot.whiskerprops.linewidth\n",
      "     |  - boxplot.whiskerprops.linestyle\n",
      "     |  - boxplot.capprops.color\n",
      "     |  - boxplot.capprops.linewidth\n",
      "     |  - boxplot.capprops.linestyle\n",
      "     |  - boxplot.medianprops.color\n",
      "     |  - boxplot.medianprops.linewidth\n",
      "     |  - boxplot.medianprops.linestyle\n",
      "     |  - boxplot.meanprops.color\n",
      "     |  - boxplot.meanprops.marker\n",
      "     |  - boxplot.meanprops.markerfacecolor\n",
      "     |  - boxplot.meanprops.markeredgecolor\n",
      "     |  - boxplot.meanprops.markersize\n",
      "     |  - boxplot.meanprops.linestyle\n",
      "     |  - boxplot.meanprops.linewidth\n",
      "     |  - font.family\n",
      "     |  - font.style\n",
      "     |  - font.variant\n",
      "     |  - font.stretch\n",
      "     |  - font.weight\n",
      "     |  - font.size\n",
      "     |  - font.serif\n",
      "     |  - font.sans-serif\n",
      "     |  - font.cursive\n",
      "     |  - font.fantasy\n",
      "     |  - font.monospace\n",
      "     |  - text.color\n",
      "     |  - text.usetex\n",
      "     |  - text.latex.preamble\n",
      "     |  - text.latex.preview\n",
      "     |  - text.hinting\n",
      "     |  - text.hinting_factor\n",
      "     |  - text.kerning_factor\n",
      "     |  - text.antialiased\n",
      "     |  - mathtext.cal\n",
      "     |  - mathtext.rm\n",
      "     |  - mathtext.tt\n",
      "     |  - mathtext.it\n",
      "     |  - mathtext.bf\n",
      "     |  - mathtext.sf\n",
      "     |  - mathtext.fontset\n",
      "     |  - mathtext.default\n",
      "     |  - mathtext.fallback_to_cm\n",
      "     |  - mathtext.fallback\n",
      "     |  - image.aspect\n",
      "     |  - image.interpolation\n",
      "     |  - image.cmap\n",
      "     |  - image.lut\n",
      "     |  - image.origin\n",
      "     |  - image.resample\n",
      "     |  - image.composite_image\n",
      "     |  - contour.negative_linestyle\n",
      "     |  - contour.corner_mask\n",
      "     |  - contour.linewidth\n",
      "     |  - errorbar.capsize\n",
      "     |  - xaxis.labellocation\n",
      "     |  - yaxis.labellocation\n",
      "     |  - axes.axisbelow\n",
      "     |  - axes.facecolor\n",
      "     |  - axes.edgecolor\n",
      "     |  - axes.linewidth\n",
      "     |  - axes.spines.left\n",
      "     |  - axes.spines.right\n",
      "     |  - axes.spines.bottom\n",
      "     |  - axes.spines.top\n",
      "     |  - axes.titlesize\n",
      "     |  - axes.titlelocation\n",
      "     |  - axes.titleweight\n",
      "     |  - axes.titlecolor\n",
      "     |  - axes.titley\n",
      "     |  - axes.titlepad\n",
      "     |  - axes.grid\n",
      "     |  - axes.grid.which\n",
      "     |  - axes.grid.axis\n",
      "     |  - axes.labelsize\n",
      "     |  - axes.labelpad\n",
      "     |  - axes.labelweight\n",
      "     |  - axes.labelcolor\n",
      "     |  - axes.formatter.limits\n",
      "     |  - axes.formatter.use_locale\n",
      "     |  - axes.formatter.use_mathtext\n",
      "     |  - axes.formatter.min_exponent\n",
      "     |  - axes.formatter.useoffset\n",
      "     |  - axes.formatter.offset_threshold\n",
      "     |  - axes.unicode_minus\n",
      "     |  - axes.prop_cycle\n",
      "     |  - axes.autolimit_mode\n",
      "     |  - axes.xmargin\n",
      "     |  - axes.ymargin\n",
      "     |  - axes.zmargin\n",
      "     |  - polaraxes.grid\n",
      "     |  - axes3d.grid\n",
      "     |  - scatter.marker\n",
      "     |  - scatter.edgecolors\n",
      "     |  - date.epoch\n",
      "     |  - date.autoformatter.year\n",
      "     |  - date.autoformatter.month\n",
      "     |  - date.autoformatter.day\n",
      "     |  - date.autoformatter.hour\n",
      "     |  - date.autoformatter.minute\n",
      "     |  - date.autoformatter.second\n",
      "     |  - date.autoformatter.microsecond\n",
      "     |  - date.converter\n",
      "     |  - date.interval_multiples\n",
      "     |  - legend.fancybox\n",
      "     |  - legend.loc\n",
      "     |  - legend.numpoints\n",
      "     |  - legend.scatterpoints\n",
      "     |  - legend.fontsize\n",
      "     |  - legend.title_fontsize\n",
      "     |  - legend.markerscale\n",
      "     |  - legend.shadow\n",
      "     |  - legend.frameon\n",
      "     |  - legend.framealpha\n",
      "     |  - legend.borderpad\n",
      "     |  - legend.labelspacing\n",
      "     |  - legend.handlelength\n",
      "     |  - legend.handleheight\n",
      "     |  - legend.handletextpad\n",
      "     |  - legend.borderaxespad\n",
      "     |  - legend.columnspacing\n",
      "     |  - legend.facecolor\n",
      "     |  - legend.edgecolor\n",
      "     |  - xtick.top\n",
      "     |  - xtick.bottom\n",
      "     |  - xtick.labeltop\n",
      "     |  - xtick.labelbottom\n",
      "     |  - xtick.major.size\n",
      "     |  - xtick.minor.size\n",
      "     |  - xtick.major.width\n",
      "     |  - xtick.minor.width\n",
      "     |  - xtick.major.pad\n",
      "     |  - xtick.minor.pad\n",
      "     |  - xtick.color\n",
      "     |  - xtick.labelcolor\n",
      "     |  - xtick.minor.visible\n",
      "     |  - xtick.minor.top\n",
      "     |  - xtick.minor.bottom\n",
      "     |  - xtick.major.top\n",
      "     |  - xtick.major.bottom\n",
      "     |  - xtick.labelsize\n",
      "     |  - xtick.direction\n",
      "     |  - xtick.alignment\n",
      "     |  - ytick.left\n",
      "     |  - ytick.right\n",
      "     |  - ytick.labelleft\n",
      "     |  - ytick.labelright\n",
      "     |  - ytick.major.size\n",
      "     |  - ytick.minor.size\n",
      "     |  - ytick.major.width\n",
      "     |  - ytick.minor.width\n",
      "     |  - ytick.major.pad\n",
      "     |  - ytick.minor.pad\n",
      "     |  - ytick.color\n",
      "     |  - ytick.labelcolor\n",
      "     |  - ytick.minor.visible\n",
      "     |  - ytick.minor.left\n",
      "     |  - ytick.minor.right\n",
      "     |  - ytick.major.left\n",
      "     |  - ytick.major.right\n",
      "     |  - ytick.labelsize\n",
      "     |  - ytick.direction\n",
      "     |  - ytick.alignment\n",
      "     |  - grid.color\n",
      "     |  - grid.linestyle\n",
      "     |  - grid.linewidth\n",
      "     |  - grid.alpha\n",
      "     |  - figure.titlesize\n",
      "     |  - figure.titleweight\n",
      "     |  - figure.figsize\n",
      "     |  - figure.dpi\n",
      "     |  - figure.facecolor\n",
      "     |  - figure.edgecolor\n",
      "     |  - figure.frameon\n",
      "     |  - figure.autolayout\n",
      "     |  - figure.max_open_warning\n",
      "     |  - figure.raise_window\n",
      "     |  - figure.subplot.left\n",
      "     |  - figure.subplot.right\n",
      "     |  - figure.subplot.bottom\n",
      "     |  - figure.subplot.top\n",
      "     |  - figure.subplot.wspace\n",
      "     |  - figure.subplot.hspace\n",
      "     |  - figure.constrained_layout.use\n",
      "     |  - figure.constrained_layout.hspace\n",
      "     |  - figure.constrained_layout.wspace\n",
      "     |  - figure.constrained_layout.h_pad\n",
      "     |  - figure.constrained_layout.w_pad\n",
      "     |  - savefig.dpi\n",
      "     |  - savefig.facecolor\n",
      "     |  - savefig.edgecolor\n",
      "     |  - savefig.orientation\n",
      "     |  - savefig.jpeg_quality\n",
      "     |  - savefig.format\n",
      "     |  - savefig.bbox\n",
      "     |  - savefig.pad_inches\n",
      "     |  - savefig.directory\n",
      "     |  - savefig.transparent\n",
      "     |  - tk.window_focus\n",
      "     |  - ps.papersize\n",
      "     |  - ps.useafm\n",
      "     |  - ps.usedistiller\n",
      "     |  - ps.distiller.res\n",
      "     |  - ps.fonttype\n",
      "     |  - pdf.compression\n",
      "     |  - pdf.inheritcolor\n",
      "     |  - pdf.use14corefonts\n",
      "     |  - pdf.fonttype\n",
      "     |  - pgf.texsystem\n",
      "     |  - pgf.rcfonts\n",
      "     |  - pgf.preamble\n",
      "     |  - svg.image_inline\n",
      "     |  - svg.fonttype\n",
      "     |  - svg.hashsalt\n",
      "     |  - docstring.hardcopy\n",
      "     |  - path.simplify\n",
      "     |  - path.simplify_threshold\n",
      "     |  - path.snap\n",
      "     |  - path.sketch\n",
      "     |  - path.effects\n",
      "     |  - agg.path.chunksize\n",
      "     |  - keymap.fullscreen\n",
      "     |  - keymap.home\n",
      "     |  - keymap.back\n",
      "     |  - keymap.forward\n",
      "     |  - keymap.pan\n",
      "     |  - keymap.zoom\n",
      "     |  - keymap.save\n",
      "     |  - keymap.quit\n",
      "     |  - keymap.quit_all\n",
      "     |  - keymap.grid\n",
      "     |  - keymap.grid_minor\n",
      "     |  - keymap.yscale\n",
      "     |  - keymap.xscale\n",
      "     |  - keymap.all_axes\n",
      "     |  - keymap.help\n",
      "     |  - keymap.copy\n",
      "     |  - animation.html\n",
      "     |  - animation.embed_limit\n",
      "     |  - animation.writer\n",
      "     |  - animation.codec\n",
      "     |  - animation.bitrate\n",
      "     |  - animation.frame_format\n",
      "     |  - animation.html_args\n",
      "     |  - animation.ffmpeg_path\n",
      "     |  - animation.ffmpeg_args\n",
      "     |  - animation.avconv_path\n",
      "     |  - animation.avconv_args\n",
      "     |  - animation.convert_path\n",
      "     |  - animation.convert_args\n",
      "     |  - _internal.classic_mode\n",
      "     |  \n",
      "     |  See Also\n",
      "     |  --------\n",
      "     |  :ref:`customizing-with-matplotlibrc-files`\n",
      "     |  \n",
      "     |  Method resolution order:\n",
      "     |      RcParams\n",
      "     |      collections.abc.MutableMapping\n",
      "     |      collections.abc.Mapping\n",
      "     |      collections.abc.Collection\n",
      "     |      collections.abc.Sized\n",
      "     |      collections.abc.Iterable\n",
      "     |      collections.abc.Container\n",
      "     |      builtins.dict\n",
      "     |      builtins.object\n",
      "     |  \n",
      "     |  Methods defined here:\n",
      "     |  \n",
      "     |  __getitem__(self, key)\n",
      "     |      x.__getitem__(y) <==> x[y]\n",
      "     |  \n",
      "     |  __init__(self, *args, **kwargs)\n",
      "     |      Initialize self.  See help(type(self)) for accurate signature.\n",
      "     |  \n",
      "     |  __iter__(self)\n",
      "     |      Yield sorted list of keys.\n",
      "     |  \n",
      "     |  __len__(self)\n",
      "     |      Return len(self).\n",
      "     |  \n",
      "     |  __repr__(self)\n",
      "     |      Return repr(self).\n",
      "     |  \n",
      "     |  __setitem__(self, key, val)\n",
      "     |      Set self[key] to value.\n",
      "     |  \n",
      "     |  __str__(self)\n",
      "     |      Return str(self).\n",
      "     |  \n",
      "     |  copy(self)\n",
      "     |      D.copy() -> a shallow copy of D\n",
      "     |  \n",
      "     |  find_all(self, pattern)\n",
      "     |      Return the subset of this RcParams dictionary whose keys match,\n",
      "     |      using :func:`re.search`, the given ``pattern``.\n",
      "     |      \n",
      "     |      .. note::\n",
      "     |      \n",
      "     |          Changes to the returned dictionary are *not* propagated to\n",
      "     |          the parent RcParams dictionary.\n",
      "     |  \n",
      "     |  ----------------------------------------------------------------------\n",
      "     |  Data descriptors defined here:\n",
      "     |  \n",
      "     |  __dict__\n",
      "     |      dictionary for instance variables (if defined)\n",
      "     |  \n",
      "     |  __weakref__\n",
      "     |      list of weak references to the object (if defined)\n",
      "     |  \n",
      "     |  ----------------------------------------------------------------------\n",
      "     |  Data and other attributes defined here:\n",
      "     |  \n",
      "     |  __abstractmethods__ = frozenset({'__delitem__'})\n",
      "     |  \n",
      "     |  validate = {'_internal.classic_mode': <function validate_bool>, 'agg.p...\n",
      "     |  \n",
      "     |  ----------------------------------------------------------------------\n",
      "     |  Methods inherited from collections.abc.MutableMapping:\n",
      "     |  \n",
      "     |  __delitem__(self, key)\n",
      "     |  \n",
      "     |  clear(self)\n",
      "     |      D.clear() -> None.  Remove all items from D.\n",
      "     |  \n",
      "     |  pop(self, key, default=<object object at 0x000002A1EB037120>)\n",
      "     |      D.pop(k[,d]) -> v, remove specified key and return the corresponding value.\n",
      "     |      If key is not found, d is returned if given, otherwise KeyError is raised.\n",
      "     |  \n",
      "     |  popitem(self)\n",
      "     |      D.popitem() -> (k, v), remove and return some (key, value) pair\n",
      "     |      as a 2-tuple; but raise KeyError if D is empty.\n",
      "     |  \n",
      "     |  setdefault(self, key, default=None)\n",
      "     |      D.setdefault(k[,d]) -> D.get(k,d), also set D[k]=d if k not in D\n",
      "     |  \n",
      "     |  update(*args, **kwds)\n",
      "     |      D.update([E, ]**F) -> None.  Update D from mapping/iterable E and F.\n",
      "     |      If E present and has a .keys() method, does:     for k in E: D[k] = E[k]\n",
      "     |      If E present and lacks .keys() method, does:     for (k, v) in E: D[k] = v\n",
      "     |      In either case, this is followed by: for k, v in F.items(): D[k] = v\n",
      "     |  \n",
      "     |  ----------------------------------------------------------------------\n",
      "     |  Methods inherited from collections.abc.Mapping:\n",
      "     |  \n",
      "     |  __contains__(self, key)\n",
      "     |  \n",
      "     |  __eq__(self, other)\n",
      "     |      Return self==value.\n",
      "     |  \n",
      "     |  get(self, key, default=None)\n",
      "     |      D.get(k[,d]) -> D[k] if k in D, else d.  d defaults to None.\n",
      "     |  \n",
      "     |  items(self)\n",
      "     |      D.items() -> a set-like object providing a view on D's items\n",
      "     |  \n",
      "     |  keys(self)\n",
      "     |      D.keys() -> a set-like object providing a view on D's keys\n",
      "     |  \n",
      "     |  values(self)\n",
      "     |      D.values() -> an object providing a view on D's values\n",
      "     |  \n",
      "     |  ----------------------------------------------------------------------\n",
      "     |  Data and other attributes inherited from collections.abc.Mapping:\n",
      "     |  \n",
      "     |  __hash__ = None\n",
      "     |  \n",
      "     |  __reversed__ = None\n",
      "     |  \n",
      "     |  ----------------------------------------------------------------------\n",
      "     |  Class methods inherited from collections.abc.Collection:\n",
      "     |  \n",
      "     |  __subclasshook__(C) from abc.ABCMeta\n",
      "     |      Abstract classes can override this to customize issubclass().\n",
      "     |      \n",
      "     |      This is invoked early on by abc.ABCMeta.__subclasscheck__().\n",
      "     |      It should return True, False or NotImplemented.  If it returns\n",
      "     |      NotImplemented, the normal algorithm is used.  Otherwise, it\n",
      "     |      overrides the normal algorithm (and the outcome is cached).\n",
      "     |  \n",
      "     |  ----------------------------------------------------------------------\n",
      "     |  Methods inherited from builtins.dict:\n",
      "     |  \n",
      "     |  __ge__(self, value, /)\n",
      "     |      Return self>=value.\n",
      "     |  \n",
      "     |  __getattribute__(self, name, /)\n",
      "     |      Return getattr(self, name).\n",
      "     |  \n",
      "     |  __gt__(self, value, /)\n",
      "     |      Return self>value.\n",
      "     |  \n",
      "     |  __le__(self, value, /)\n",
      "     |      Return self<=value.\n",
      "     |  \n",
      "     |  __lt__(self, value, /)\n",
      "     |      Return self<value.\n",
      "     |  \n",
      "     |  __ne__(self, value, /)\n",
      "     |      Return self!=value.\n",
      "     |  \n",
      "     |  __sizeof__(...)\n",
      "     |      D.__sizeof__() -> size of D in memory, in bytes\n",
      "     |  \n",
      "     |  ----------------------------------------------------------------------\n",
      "     |  Class methods inherited from builtins.dict:\n",
      "     |  \n",
      "     |  fromkeys(iterable, value=None, /) from abc.ABCMeta\n",
      "     |      Create a new dictionary with keys from iterable and values set to value.\n",
      "     |  \n",
      "     |  ----------------------------------------------------------------------\n",
      "     |  Static methods inherited from builtins.dict:\n",
      "     |  \n",
      "     |  __new__(*args, **kwargs) from builtins.type\n",
      "     |      Create and return a new object.  See help(type) for accurate signature.\n",
      "\n",
      "FUNCTIONS\n",
      "    checkdep_usetex(s)\n",
      "    \n",
      "    get_backend()\n",
      "        Return the name of the current backend.\n",
      "        \n",
      "        See Also\n",
      "        --------\n",
      "        matplotlib.use\n",
      "    \n",
      "    get_cachedir()\n",
      "        Return the string path of the cache directory.\n",
      "        \n",
      "        The procedure used to find the directory is the same as for\n",
      "        _get_config_dir, except using ``$XDG_CACHE_HOME``/``$HOME/.cache`` instead.\n",
      "    \n",
      "    get_configdir()\n",
      "        Return the string path of the the configuration directory.\n",
      "        \n",
      "        The directory is chosen as follows:\n",
      "        \n",
      "        1. If the MPLCONFIGDIR environment variable is supplied, choose that.\n",
      "        2. On Linux, follow the XDG specification and look first in\n",
      "           ``$XDG_CONFIG_HOME``, if defined, or ``$HOME/.config``.  On other\n",
      "           platforms, choose ``$HOME/.matplotlib``.\n",
      "        3. If the chosen directory exists and is writable, use that as the\n",
      "           configuration directory.\n",
      "        4. Else, create a temporary directory, and use it as the configuration\n",
      "           directory.\n",
      "    \n",
      "    get_data_path()\n",
      "        Return the path to Matplotlib data.\n",
      "    \n",
      "    interactive(b)\n",
      "        Set whether to redraw after every plotting command (e.g. `.pyplot.xlabel`).\n",
      "    \n",
      "    is_interactive()\n",
      "        Return whether to redraw after every plotting command.\n",
      "    \n",
      "    is_url(filename)\n",
      "        Return whether *filename* is an http, https, ftp, or file URL path.\n",
      "    \n",
      "    matplotlib_fname()\n",
      "        Get the location of the config file.\n",
      "        \n",
      "        The file location is determined in the following order\n",
      "        \n",
      "        - ``$PWD/matplotlibrc``\n",
      "        - ``$MATPLOTLIBRC`` if it is not a directory\n",
      "        - ``$MATPLOTLIBRC/matplotlibrc``\n",
      "        - ``$MPLCONFIGDIR/matplotlibrc``\n",
      "        - On Linux,\n",
      "            - ``$XDG_CONFIG_HOME/matplotlib/matplotlibrc`` (if ``$XDG_CONFIG_HOME``\n",
      "              is defined)\n",
      "            - or ``$HOME/.config/matplotlib/matplotlibrc`` (if ``$XDG_CONFIG_HOME``\n",
      "              is not defined)\n",
      "        - On other platforms,\n",
      "          - ``$HOME/.matplotlib/matplotlibrc`` if ``$HOME`` is defined\n",
      "        - Lastly, it looks in ``$MATPLOTLIBDATA/matplotlibrc``, which should always\n",
      "          exist.\n",
      "    \n",
      "    rc(group, **kwargs)\n",
      "        Set the current `.rcParams`.  *group* is the grouping for the rc, e.g.,\n",
      "        for ``lines.linewidth`` the group is ``lines``, for\n",
      "        ``axes.facecolor``, the group is ``axes``, and so on.  Group may\n",
      "        also be a list or tuple of group names, e.g., (*xtick*, *ytick*).\n",
      "        *kwargs* is a dictionary attribute name/value pairs, e.g.,::\n",
      "        \n",
      "          rc('lines', linewidth=2, color='r')\n",
      "        \n",
      "        sets the current `.rcParams` and is equivalent to::\n",
      "        \n",
      "          rcParams['lines.linewidth'] = 2\n",
      "          rcParams['lines.color'] = 'r'\n",
      "        \n",
      "        The following aliases are available to save typing for interactive users:\n",
      "        \n",
      "        =====   =================\n",
      "        Alias   Property\n",
      "        =====   =================\n",
      "        'lw'    'linewidth'\n",
      "        'ls'    'linestyle'\n",
      "        'c'     'color'\n",
      "        'fc'    'facecolor'\n",
      "        'ec'    'edgecolor'\n",
      "        'mew'   'markeredgewidth'\n",
      "        'aa'    'antialiased'\n",
      "        =====   =================\n",
      "        \n",
      "        Thus you could abbreviate the above call as::\n",
      "        \n",
      "              rc('lines', lw=2, c='r')\n",
      "        \n",
      "        Note you can use python's kwargs dictionary facility to store\n",
      "        dictionaries of default parameters.  e.g., you can customize the\n",
      "        font rc as follows::\n",
      "        \n",
      "          font = {'family' : 'monospace',\n",
      "                  'weight' : 'bold',\n",
      "                  'size'   : 'larger'}\n",
      "          rc('font', **font)  # pass in the font dict as kwargs\n",
      "        \n",
      "        This enables you to easily switch between several configurations.  Use\n",
      "        ``matplotlib.style.use('default')`` or :func:`~matplotlib.rcdefaults` to\n",
      "        restore the default `.rcParams` after changes.\n",
      "        \n",
      "        Notes\n",
      "        -----\n",
      "        Similar functionality is available by using the normal dict interface, i.e.\n",
      "        ``rcParams.update({\"lines.linewidth\": 2, ...})`` (but ``rcParams.update``\n",
      "        does not support abbreviations or grouping).\n",
      "    \n",
      "    rc_context(rc=None, fname=None)\n",
      "        Return a context manager for temporarily changing rcParams.\n",
      "        \n",
      "        Parameters\n",
      "        ----------\n",
      "        rc : dict\n",
      "            The rcParams to temporarily set.\n",
      "        fname : str or path-like\n",
      "            A file with Matplotlib rc settings. If both *fname* and *rc* are given,\n",
      "            settings from *rc* take precedence.\n",
      "        \n",
      "        See Also\n",
      "        --------\n",
      "        :ref:`customizing-with-matplotlibrc-files`\n",
      "        \n",
      "        Examples\n",
      "        --------\n",
      "        Passing explicit values via a dict::\n",
      "        \n",
      "            with mpl.rc_context({'interactive': False}):\n",
      "                fig, ax = plt.subplots()\n",
      "                ax.plot(range(3), range(3))\n",
      "                fig.savefig('example.png')\n",
      "                plt.close(fig)\n",
      "        \n",
      "        Loading settings from a file::\n",
      "        \n",
      "             with mpl.rc_context(fname='print.rc'):\n",
      "                 plt.plot(x, y)  # uses 'print.rc'\n",
      "    \n",
      "    rc_file(fname, *, use_default_template=True)\n",
      "        Update `.rcParams` from file.\n",
      "        \n",
      "        Style-blacklisted `.rcParams` (defined in\n",
      "        `matplotlib.style.core.STYLE_BLACKLIST`) are not updated.\n",
      "        \n",
      "        Parameters\n",
      "        ----------\n",
      "        fname : str or path-like\n",
      "            A file with Matplotlib rc settings.\n",
      "        \n",
      "        use_default_template : bool\n",
      "            If True, initialize with default parameters before updating with those\n",
      "            in the given file. If False, the current configuration persists\n",
      "            and only the parameters specified in the file are updated.\n",
      "    \n",
      "    rc_file_defaults()\n",
      "        Restore the `.rcParams` from the original rc file loaded by Matplotlib.\n",
      "        \n",
      "        Style-blacklisted `.rcParams` (defined in\n",
      "        `matplotlib.style.core.STYLE_BLACKLIST`) are not updated.\n",
      "    \n",
      "    rc_params(fail_on_error=False)\n",
      "        Construct a `RcParams` instance from the default Matplotlib rc file.\n",
      "    \n",
      "    rc_params_from_file(fname, fail_on_error=False, use_default_template=True)\n",
      "        Construct a `RcParams` from file *fname*.\n",
      "        \n",
      "        Parameters\n",
      "        ----------\n",
      "        fname : str or path-like\n",
      "            A file with Matplotlib rc settings.\n",
      "        fail_on_error : bool\n",
      "            If True, raise an error when the parser fails to convert a parameter.\n",
      "        use_default_template : bool\n",
      "            If True, initialize with default parameters before updating with those\n",
      "            in the given file. If False, the configuration class only contains the\n",
      "            parameters specified in the file. (Useful for updating dicts.)\n",
      "    \n",
      "    rcdefaults()\n",
      "        Restore the `.rcParams` from Matplotlib's internal default style.\n",
      "        \n",
      "        Style-blacklisted `.rcParams` (defined in\n",
      "        `matplotlib.style.core.STYLE_BLACKLIST`) are not updated.\n",
      "        \n",
      "        See Also\n",
      "        --------\n",
      "        matplotlib.rc_file_defaults\n",
      "            Restore the `.rcParams` from the rc file originally loaded by\n",
      "            Matplotlib.\n",
      "        matplotlib.style.use\n",
      "            Use a specific style file.  Call ``style.use('default')`` to restore\n",
      "            the default style.\n",
      "    \n",
      "    set_loglevel(level)\n",
      "        Set Matplotlib's root logger and root logger handler level, creating\n",
      "        the handler if it does not exist yet.\n",
      "        \n",
      "        Typically, one should call ``set_loglevel(\"info\")`` or\n",
      "        ``set_loglevel(\"debug\")`` to get additional debugging information.\n",
      "        \n",
      "        Parameters\n",
      "        ----------\n",
      "        level : {\"notset\", \"debug\", \"info\", \"warning\", \"error\", \"critical\"}\n",
      "            The log level of the handler.\n",
      "        \n",
      "        Notes\n",
      "        -----\n",
      "        The first time this function is called, an additional handler is attached\n",
      "        to Matplotlib's root handler; this handler is reused every time and this\n",
      "        function simply manipulates the logger and handler's level.\n",
      "    \n",
      "    test(verbosity=None, coverage=False, *, recursionlimit=<deprecated parameter>, **kwargs)\n",
      "        Run the matplotlib test suite.\n",
      "    \n",
      "    use(backend, *, force=True)\n",
      "        Select the backend used for rendering and GUI integration.\n",
      "        \n",
      "        Parameters\n",
      "        ----------\n",
      "        backend : str\n",
      "            The backend to switch to.  This can either be one of the standard\n",
      "            backend names, which are case-insensitive:\n",
      "        \n",
      "            - interactive backends:\n",
      "              GTK3Agg, GTK3Cairo, MacOSX, nbAgg,\n",
      "              Qt4Agg, Qt4Cairo, Qt5Agg, Qt5Cairo,\n",
      "              TkAgg, TkCairo, WebAgg, WX, WXAgg, WXCairo\n",
      "        \n",
      "            - non-interactive backends:\n",
      "              agg, cairo, pdf, pgf, ps, svg, template\n",
      "        \n",
      "            or a string of the form: ``module://my.module.name``.\n",
      "        \n",
      "        force : bool, default: True\n",
      "            If True (the default), raise an `ImportError` if the backend cannot be\n",
      "            set up (either because it fails to import, or because an incompatible\n",
      "            GUI interactive framework is already running); if False, ignore the\n",
      "            failure.\n",
      "        \n",
      "        See Also\n",
      "        --------\n",
      "        :ref:`backends`\n",
      "        matplotlib.get_backend\n",
      "\n",
      "DATA\n",
      "    URL_REGEX = re.compile('^http://|^https://|^ftp://|^file:')\n",
      "    __bibtex__ = '@Article{Hunter:2007,\\n  Author    = {Hunter, J. ...ishe...\n",
      "    defaultParams = {'_internal.classic_mode': [False, <function validate_...\n",
      "    default_test_modules = ['matplotlib.tests', 'mpl_toolkits.tests']\n",
      "    rcParams = RcParams({'_internal.classic_mode': False,\n",
      "         ...nor.widt...\n",
      "    rcParamsDefault = RcParams({'_internal.classic_mode': False,\n",
      "         ...n...\n",
      "    rcParamsOrig = RcParams({'_internal.classic_mode': False,\n",
      "         ...nor....\n",
      "\n",
      "VERSION\n",
      "    3.4.1\n",
      "\n",
      "FILE\n",
      "    c:\\users\\enaid_000\\anaconda3\\lib\\site-packages\\matplotlib\\__init__.py\n",
      "\n",
      "\n"
     ]
    }
   ],
   "source": [
    "help()"
   ]
  },
  {
   "cell_type": "code",
   "execution_count": 3,
   "metadata": {},
   "outputs": [
    {
     "name": "stdout",
     "output_type": "stream",
     "text": [
      "The value of pi is = 3.141590\n"
     ]
    }
   ],
   "source": [
    "print(\"The value of %s is = %02f\" % (\"pi\", 3.14159))"
   ]
  },
  {
   "cell_type": "code",
   "execution_count": 7,
   "metadata": {},
   "outputs": [
    {
     "name": "stdout",
     "output_type": "stream",
     "text": [
      "a conduct by repr as follow\n"
     ]
    }
   ],
   "source": [
    "class thisisrepr():\n",
    "    print(\"a conduct by repr as follow\")"
   ]
  },
  {
   "cell_type": "code",
   "execution_count": 27,
   "metadata": {},
   "outputs": [
    {
     "name": "stdout",
     "output_type": "stream",
     "text": [
      "(1+90j)\n"
     ]
    },
    {
     "data": {
      "text/plain": [
       "'(1+90j)'"
      ]
     },
     "execution_count": 27,
     "metadata": {},
     "output_type": "execute_result"
    }
   ],
   "source": [
    "q=complex(1, 90) \n",
    "  \n",
    "print(str(q))\n",
    "repr(q)"
   ]
  },
  {
   "cell_type": "code",
   "execution_count": 28,
   "metadata": {},
   "outputs": [
    {
     "data": {
      "text/plain": [
       "\"'67'\""
      ]
     },
     "execution_count": 28,
     "metadata": {},
     "output_type": "execute_result"
    }
   ],
   "source": [
    "class age :\n",
    "       age='67'\n",
    "       def __repr__(first):\n",
    "              return repr(first.age)\n",
    "o=age()\n",
    "repr(o)"
   ]
  },
  {
   "cell_type": "code",
   "execution_count": 1,
   "metadata": {},
   "outputs": [
    {
     "name": "stdout",
     "output_type": "stream",
     "text": [
      "The Zen of Python, by Tim Peters\n",
      "\n",
      "Beautiful is better than ugly.\n",
      "Explicit is better than implicit.\n",
      "Simple is better than complex.\n",
      "Complex is better than complicated.\n",
      "Flat is better than nested.\n",
      "Sparse is better than dense.\n",
      "Readability counts.\n",
      "Special cases aren't special enough to break the rules.\n",
      "Although practicality beats purity.\n",
      "Errors should never pass silently.\n",
      "Unless explicitly silenced.\n",
      "In the face of ambiguity, refuse the temptation to guess.\n",
      "There should be one-- and preferably only one --obvious way to do it.\n",
      "Although that way may not be obvious at first unless you're Dutch.\n",
      "Now is better than never.\n",
      "Although never is often better than *right* now.\n",
      "If the implementation is hard to explain, it's a bad idea.\n",
      "If the implementation is easy to explain, it may be a good idea.\n",
      "Namespaces are one honking great idea -- let's do more of those!\n"
     ]
    }
   ],
   "source": [
    "import this"
   ]
  },
  {
   "cell_type": "code",
   "execution_count": 4,
   "metadata": {},
   "outputs": [
    {
     "name": "stdout",
     "output_type": "stream",
     "text": [
      "In parent class\n",
      "In Child class\n"
     ]
    }
   ],
   "source": [
    "# Python code to illustrate how mangling works\n",
    "# With method overriding\n",
    "\n",
    "class Map:\n",
    "    def __init__(self):\n",
    "        self.__geek()\n",
    "\n",
    "    def geek(self):\n",
    "        print(\"In parent class\")\n",
    "\n",
    "# private copy of original geek() method\n",
    "    __geek = geek\n",
    "\n",
    "class MapSubclass(Map):\n",
    "# provides new signature for geek() but\n",
    "# does not break __init__()\n",
    "    def geek(self):\n",
    "        print(\"In Child class\")\n",
    "\n",
    "obj = MapSubclass()\n",
    "obj.geek()"
   ]
  },
  {
   "cell_type": "code",
   "execution_count": 2,
   "metadata": {},
   "outputs": [
    {
     "name": "stdout",
     "output_type": "stream",
     "text": [
      "Friday\n",
      "Tuesday\n",
      "Sunday\n",
      "Invalid day \n"
     ]
    }
   ],
   "source": [
    "#there is no switch case in Python, we use function with dictionary\n",
    "def days_of_week(day):\n",
    "\n",
    "    switcher ={\n",
    "        1: 'Monday',\n",
    "        2: 'Tuesday',\n",
    "        3: 'Wednesday',\n",
    "        4: 'Thursday',\n",
    "        5: 'Friday',\n",
    "        6: 'Saturday',\n",
    "        7: 'Sunday'\n",
    "    }\n",
    "\n",
    "    return switcher.get(day,\"Invalid day \")\n",
    "\n",
    "\n",
    "print( days_of_week(5))\n",
    "print( days_of_week(2))\n",
    "print( days_of_week(7))\n",
    "print( days_of_week(10))"
   ]
  },
  {
   "cell_type": "code",
   "execution_count": 3,
   "metadata": {},
   "outputs": [
    {
     "name": "stdout",
     "output_type": "stream",
     "text": [
      "30\n",
      "-10\n",
      "200\n",
      "0.5\n"
     ]
    }
   ],
   "source": [
    "#instead switch case, another way is to use lambda dynamic functions \n",
    "def calculate(n1, n2, operator):\n",
    "\n",
    "    switcher ={\n",
    "        '+': lambda n1,n2: n1+n2,\n",
    "        '-': lambda n1,n2: n1-n2,\n",
    "        '*': lambda n1,n2: n1*n2,\n",
    "        '/': lambda n1,n2: n1/n2,\n",
    "\n",
    "    }\n",
    "\n",
    "    return switcher.get(operator)(n1,n2)\n",
    "\n",
    "\n",
    "print( calculate(10,20,'+'))\n",
    "print( calculate(10,20,'-'))\n",
    "print( calculate(10,20,'*'))\n",
    "print( calculate(10,20,'/'))"
   ]
  },
  {
   "cell_type": "code",
   "execution_count": 6,
   "metadata": {},
   "outputs": [
    {
     "name": "stdout",
     "output_type": "stream",
     "text": [
      "Monday\n",
      "Invalid day\n",
      "Wednesday\n"
     ]
    }
   ],
   "source": [
    "# or using class - In the below example we call the switch() method which takes the day of the week and appends it to a string.\n",
    "#Here, we use getattr() to match method name and in the end, we call the method to get the desired output.\n",
    "class SwitchCase:\n",
    "\n",
    "    def switch(self, dayOfWeek):\n",
    "        default = \"Invalid day\"\n",
    "        return getattr(self, 'case_' + str(dayOfWeek), lambda: default)()\n",
    "\n",
    "    def case_1(self):\n",
    "        return \"Monday\"\n",
    "\n",
    "    def case_2(self):\n",
    "        return \"Tuesday\"\n",
    "\n",
    "    def case_3(self):\n",
    "        return \"Wednesday\"\n",
    "\n",
    "    def case_4(self):\n",
    "        return \"Thursday\"\n",
    "\n",
    "    def case_5(self):\n",
    "        return \"Friday\"\n",
    "\n",
    "    def case_6(self):\n",
    "        return \"Saturday\"\n",
    "\n",
    "    def case_7(self):\n",
    "        return \"Sunday\"\n",
    "\n",
    "day = SwitchCase()\n",
    "\n",
    "print(day.switch(1))\n",
    "print(day.switch(0))\n",
    "print(day.switch(3))"
   ]
  },
  {
   "cell_type": "code",
   "execution_count": 3,
   "metadata": {},
   "outputs": [],
   "source": [
    "help?"
   ]
  },
  {
   "cell_type": "code",
   "execution_count": 1,
   "metadata": {},
   "outputs": [
    {
     "data": {
      "text/plain": [
       "'datetime.datetime(2021, 9, 24, 21, 30, 57, 595241)'"
      ]
     },
     "execution_count": 1,
     "metadata": {},
     "output_type": "execute_result"
    }
   ],
   "source": [
    "import datetime\n",
    "now = datetime.datetime.now()\n",
    "#str(now)\n",
    "#'2020-08-09 01:30:45.200924'\n",
    "repr(now)"
   ]
  },
  {
   "cell_type": "code",
   "execution_count": 4,
   "metadata": {},
   "outputs": [
    {
     "name": "stdout",
     "output_type": "stream",
     "text": [
      "Formatted time : Fri Sep 24 21:33:10 2021\n",
      "time.struct_time(tm_year=2021, tm_mon=9, tm_mday=24, tm_hour=21, tm_min=33, tm_sec=10, tm_wday=4, tm_yday=267, tm_isdst=1)\n",
      "1632511990.942534\n"
     ]
    }
   ],
   "source": [
    "import time \n",
    "localtime = time.asctime(time.localtime(time.time()))\n",
    "print (\"Formatted time :\", localtime)\n",
    "print(time.localtime())\n",
    "print (time.time())"
   ]
  },
  {
   "cell_type": "code",
   "execution_count": 5,
   "metadata": {},
   "outputs": [
    {
     "name": "stdout",
     "output_type": "stream",
     "text": [
      "time.struct_time(tm_year=1970, tm_mon=1, tm_mday=1, tm_hour=0, tm_min=0, tm_sec=0, tm_wday=3, tm_yday=1, tm_isdst=0)\n"
     ]
    }
   ],
   "source": [
    "print(time.gmtime(0))       #The epoch is the point where the time starts, and is platform dependent. \n",
    "                            #To find out what the epoch is on a given platform, look at time.gmtime(0)."
   ]
  },
  {
   "cell_type": "code",
   "execution_count": 6,
   "metadata": {},
   "outputs": [
    {
     "data": {
      "text/plain": [
       "time.struct_time(tm_year=1970, tm_mon=1, tm_mday=1, tm_hour=0, tm_min=0, tm_sec=0, tm_wday=3, tm_yday=1, tm_isdst=0)"
      ]
     },
     "execution_count": 6,
     "metadata": {},
     "output_type": "execute_result"
    }
   ],
   "source": [
    "time.gmtime(0)          #The epoch is the point where the time starts, and is platform dependent. For Unix, \n",
    "                        #the epoch is January 1, 1970, 00:00:00 (UTC). To find out what the epoch is on a given platform, \n",
    "                        #look at time.gmtime(0).👀\n",
    "                        #The functions in this module may not handle dates and times before the epoch or far in the future. \n",
    "                        #The cut-off point in the future is determined by the C library; for 32-bit systems, it is typically \n",
    "                        #in 2038.😈"
   ]
  },
  {
   "cell_type": "code",
   "execution_count": 14,
   "metadata": {},
   "outputs": [
    {
     "name": "stdout",
     "output_type": "stream",
     "text": [
      "time.struct_time(tm_year=2021, tm_mon=5, tm_mday=10, tm_hour=1, tm_min=50, tm_sec=46, tm_wday=0, tm_yday=130, tm_isdst=1)\n",
      "1620604246.3274848\n"
     ]
    }
   ],
   "source": [
    "print(time.localtime())\n",
    "print (time.time())"
   ]
  },
  {
   "cell_type": "code",
   "execution_count": 15,
   "metadata": {},
   "outputs": [
    {
     "name": "stdout",
     "output_type": "stream",
     "text": [
      "Mon May 10 02:12:10 2021\n"
     ]
    }
   ],
   "source": [
    "print(time.asctime(time.localtime()))           #Convert a tuple or struct_time representing a time as returned by gmtime() or \n",
    "                                                #localtime() to a string of the following form: 'Sun Jun 20 23:21:05 1993'"
   ]
  },
  {
   "cell_type": "code",
   "execution_count": 18,
   "metadata": {},
   "outputs": [
    {
     "name": "stdout",
     "output_type": "stream",
     "text": [
      "Mon May 10 00:14:02 2021\n"
     ]
    }
   ],
   "source": [
    "print(time.asctime(time.gmtime(time.time())))"
   ]
  },
  {
   "cell_type": "code",
   "execution_count": 25,
   "metadata": {},
   "outputs": [
    {
     "name": "stdout",
     "output_type": "stream",
     "text": [
      "Mon May 10 02:18:55 2021\n"
     ]
    }
   ],
   "source": [
    "print(time.asctime(time.localtime()))"
   ]
  },
  {
   "cell_type": "code",
   "execution_count": 2,
   "metadata": {},
   "outputs": [],
   "source": [
    "import time\n",
    "time.sleep(3)"
   ]
  },
  {
   "cell_type": "code",
   "execution_count": 7,
   "metadata": {},
   "outputs": [
    {
     "data": {
      "text/plain": [
       "('Central European Standard Time', 'Central European Daylight Time')"
      ]
     },
     "execution_count": 7,
     "metadata": {},
     "output_type": "execute_result"
    }
   ],
   "source": [
    "time.tzname"
   ]
  },
  {
   "cell_type": "code",
   "execution_count": 3,
   "metadata": {},
   "outputs": [
    {
     "data": {
      "text/plain": [
       "['_STRUCT_TM_ITEMS',\n",
       " '__doc__',\n",
       " '__loader__',\n",
       " '__name__',\n",
       " '__package__',\n",
       " '__spec__',\n",
       " 'altzone',\n",
       " 'asctime',\n",
       " 'clock',\n",
       " 'ctime',\n",
       " 'daylight',\n",
       " 'get_clock_info',\n",
       " 'gmtime',\n",
       " 'localtime',\n",
       " 'mktime',\n",
       " 'monotonic',\n",
       " 'monotonic_ns',\n",
       " 'perf_counter',\n",
       " 'perf_counter_ns',\n",
       " 'process_time',\n",
       " 'process_time_ns',\n",
       " 'sleep',\n",
       " 'strftime',\n",
       " 'strptime',\n",
       " 'struct_time',\n",
       " 'thread_time',\n",
       " 'thread_time_ns',\n",
       " 'time',\n",
       " 'time_ns',\n",
       " 'timezone',\n",
       " 'tzname']"
      ]
     },
     "execution_count": 3,
     "metadata": {},
     "output_type": "execute_result"
    }
   ],
   "source": [
    "dir(time)"
   ]
  },
  {
   "cell_type": "code",
   "execution_count": 18,
   "metadata": {},
   "outputs": [
    {
     "data": {
      "text/plain": [
       "1"
      ]
     },
     "execution_count": 18,
     "metadata": {},
     "output_type": "execute_result"
    }
   ],
   "source": [
    "import time\n",
    "time.daylight"
   ]
  },
  {
   "cell_type": "code",
   "execution_count": 1,
   "metadata": {},
   "outputs": [
    {
     "name": "stdout",
     "output_type": "stream",
     "text": [
      "6\n"
     ]
    }
   ],
   "source": [
    "class Enaida:\n",
    "    x = 1000\n",
    "    y = 1971\n",
    "    def square (self, a, b):\n",
    "        return a*b\n",
    "    \n",
    "ena = Enaida()\n",
    "print(ena.square(2,3))"
   ]
  },
  {
   "cell_type": "code",
   "execution_count": 2,
   "metadata": {},
   "outputs": [
    {
     "data": {
      "text/plain": [
       "['__class__',\n",
       " '__delattr__',\n",
       " '__dict__',\n",
       " '__dir__',\n",
       " '__doc__',\n",
       " '__eq__',\n",
       " '__format__',\n",
       " '__ge__',\n",
       " '__getattribute__',\n",
       " '__gt__',\n",
       " '__hash__',\n",
       " '__init__',\n",
       " '__init_subclass__',\n",
       " '__le__',\n",
       " '__lt__',\n",
       " '__module__',\n",
       " '__ne__',\n",
       " '__new__',\n",
       " '__reduce__',\n",
       " '__reduce_ex__',\n",
       " '__repr__',\n",
       " '__setattr__',\n",
       " '__sizeof__',\n",
       " '__str__',\n",
       " '__subclasshook__',\n",
       " '__weakref__',\n",
       " 'square',\n",
       " 'x',\n",
       " 'y']"
      ]
     },
     "execution_count": 2,
     "metadata": {},
     "output_type": "execute_result"
    }
   ],
   "source": [
    "dir(Enaida)"
   ]
  },
  {
   "cell_type": "code",
   "execution_count": 51,
   "metadata": {},
   "outputs": [
    {
     "name": "stdout",
     "output_type": "stream",
     "text": [
      "<built-in method __format__ of Enaida object at 0x000002DDE6FC85C8>\n"
     ]
    }
   ],
   "source": [
    "print((ena.__format__))"
   ]
  },
  {
   "cell_type": "code",
   "execution_count": 4,
   "metadata": {},
   "outputs": [
    {
     "name": "stdout",
     "output_type": "stream",
     "text": [
      "<class '__main__.Enaida'>\n"
     ]
    }
   ],
   "source": [
    "print(type(ena))"
   ]
  },
  {
   "cell_type": "code",
   "execution_count": 6,
   "metadata": {},
   "outputs": [
    {
     "name": "stdout",
     "output_type": "stream",
     "text": [
      "1895910902152\n"
     ]
    }
   ],
   "source": [
    "print(id(ena))"
   ]
  },
  {
   "cell_type": "code",
   "execution_count": 7,
   "metadata": {},
   "outputs": [
    {
     "data": {
      "text/plain": [
       "['__abs__',\n",
       " '__add__',\n",
       " '__and__',\n",
       " '__bool__',\n",
       " '__ceil__',\n",
       " '__class__',\n",
       " '__delattr__',\n",
       " '__dir__',\n",
       " '__divmod__',\n",
       " '__doc__',\n",
       " '__eq__',\n",
       " '__float__',\n",
       " '__floor__',\n",
       " '__floordiv__',\n",
       " '__format__',\n",
       " '__ge__',\n",
       " '__getattribute__',\n",
       " '__getnewargs__',\n",
       " '__gt__',\n",
       " '__hash__',\n",
       " '__index__',\n",
       " '__init__',\n",
       " '__init_subclass__',\n",
       " '__int__',\n",
       " '__invert__',\n",
       " '__le__',\n",
       " '__lshift__',\n",
       " '__lt__',\n",
       " '__mod__',\n",
       " '__mul__',\n",
       " '__ne__',\n",
       " '__neg__',\n",
       " '__new__',\n",
       " '__or__',\n",
       " '__pos__',\n",
       " '__pow__',\n",
       " '__radd__',\n",
       " '__rand__',\n",
       " '__rdivmod__',\n",
       " '__reduce__',\n",
       " '__reduce_ex__',\n",
       " '__repr__',\n",
       " '__rfloordiv__',\n",
       " '__rlshift__',\n",
       " '__rmod__',\n",
       " '__rmul__',\n",
       " '__ror__',\n",
       " '__round__',\n",
       " '__rpow__',\n",
       " '__rrshift__',\n",
       " '__rshift__',\n",
       " '__rsub__',\n",
       " '__rtruediv__',\n",
       " '__rxor__',\n",
       " '__setattr__',\n",
       " '__sizeof__',\n",
       " '__str__',\n",
       " '__sub__',\n",
       " '__subclasshook__',\n",
       " '__truediv__',\n",
       " '__trunc__',\n",
       " '__xor__',\n",
       " 'bit_length',\n",
       " 'conjugate',\n",
       " 'denominator',\n",
       " 'from_bytes',\n",
       " 'imag',\n",
       " 'numerator',\n",
       " 'real',\n",
       " 'to_bytes']"
      ]
     },
     "execution_count": 7,
     "metadata": {},
     "output_type": "execute_result"
    }
   ],
   "source": [
    "myvar = 10\n",
    "dir(myvar)"
   ]
  },
  {
   "cell_type": "code",
   "execution_count": 8,
   "metadata": {},
   "outputs": [
    {
     "name": "stdout",
     "output_type": "stream",
     "text": [
      "Enaida\n",
      "(<class 'object'>,)\n"
     ]
    }
   ],
   "source": [
    "print(Enaida.__name__)\n",
    "print(Enaida.__bases__)"
   ]
  },
  {
   "cell_type": "code",
   "execution_count": 9,
   "metadata": {},
   "outputs": [
    {
     "name": "stdout",
     "output_type": "stream",
     "text": [
      "{'__module__': '__main__', 'x': 1000, 'y': 1971, 'square': <function Enaida.square at 0x000001B96D1955E8>, '__dict__': <attribute '__dict__' of 'Enaida' objects>, '__weakref__': <attribute '__weakref__' of 'Enaida' objects>, '__doc__': None}\n"
     ]
    }
   ],
   "source": [
    "print(Enaida.__dict__)"
   ]
  },
  {
   "cell_type": "code",
   "execution_count": 10,
   "metadata": {},
   "outputs": [
    {
     "data": {
      "text/plain": [
       "<__main__.Enaida at 0x1b96d188988>"
      ]
     },
     "execution_count": 10,
     "metadata": {},
     "output_type": "execute_result"
    }
   ],
   "source": [
    "ena"
   ]
  },
  {
   "cell_type": "code",
   "execution_count": 1,
   "metadata": {},
   "outputs": [
    {
     "name": "stdout",
     "output_type": "stream",
     "text": [
      "12\n"
     ]
    }
   ],
   "source": [
    "x = 2\n",
    "y = 6\n",
    "def square (a, b):\n",
    "    return a*b\n",
    "print(square(x, y))"
   ]
  },
  {
   "cell_type": "code",
   "execution_count": 13,
   "metadata": {},
   "outputs": [
    {
     "data": {
      "text/plain": [
       "['__annotations__',\n",
       " '__call__',\n",
       " '__class__',\n",
       " '__closure__',\n",
       " '__code__',\n",
       " '__defaults__',\n",
       " '__delattr__',\n",
       " '__dict__',\n",
       " '__dir__',\n",
       " '__doc__',\n",
       " '__eq__',\n",
       " '__format__',\n",
       " '__ge__',\n",
       " '__get__',\n",
       " '__getattribute__',\n",
       " '__globals__',\n",
       " '__gt__',\n",
       " '__hash__',\n",
       " '__init__',\n",
       " '__init_subclass__',\n",
       " '__kwdefaults__',\n",
       " '__le__',\n",
       " '__lt__',\n",
       " '__module__',\n",
       " '__name__',\n",
       " '__ne__',\n",
       " '__new__',\n",
       " '__qualname__',\n",
       " '__reduce__',\n",
       " '__reduce_ex__',\n",
       " '__repr__',\n",
       " '__setattr__',\n",
       " '__sizeof__',\n",
       " '__str__',\n",
       " '__subclasshook__']"
      ]
     },
     "execution_count": 13,
     "metadata": {},
     "output_type": "execute_result"
    }
   ],
   "source": [
    "dir(square)"
   ]
  },
  {
   "cell_type": "code",
   "execution_count": 14,
   "metadata": {},
   "outputs": [
    {
     "name": "stdout",
     "output_type": "stream",
     "text": [
      "None\n"
     ]
    }
   ],
   "source": [
    "print(square.__doc__)           #The function’s documentation string, or None if unavailable; not inherited by subclasses."
   ]
  },
  {
   "cell_type": "code",
   "execution_count": 15,
   "metadata": {},
   "outputs": [
    {
     "name": "stdout",
     "output_type": "stream",
     "text": [
      "square\n"
     ]
    }
   ],
   "source": [
    "print(square.__name__)          #The function’s name."
   ]
  },
  {
   "cell_type": "code",
   "execution_count": 16,
   "metadata": {},
   "outputs": [
    {
     "data": {
      "text/plain": [
       "'square'"
      ]
     },
     "execution_count": 16,
     "metadata": {},
     "output_type": "execute_result"
    }
   ],
   "source": [
    "square.__qualname__             #The function’s qualified name. A dotted name showing the “path” from a module’s global scope \n",
    "                                #to a class, function or method defined in that module"
   ]
  },
  {
   "cell_type": "code",
   "execution_count": 17,
   "metadata": {},
   "outputs": [
    {
     "data": {
      "text/plain": [
       "'__main__'"
      ]
     },
     "execution_count": 17,
     "metadata": {},
     "output_type": "execute_result"
    }
   ],
   "source": [
    "square.__module__               #The name of the module the function was defined"
   ]
  },
  {
   "cell_type": "code",
   "execution_count": 18,
   "metadata": {},
   "outputs": [
    {
     "name": "stdout",
     "output_type": "stream",
     "text": [
      "None\n"
     ]
    }
   ],
   "source": [
    "print(square.__defaults__)      #A tuple containing default argument values for those arguments that have defaults"
   ]
  },
  {
   "cell_type": "code",
   "execution_count": 19,
   "metadata": {},
   "outputs": [
    {
     "name": "stdout",
     "output_type": "stream",
     "text": [
      "<code object square at 0x000001998FA36A50, file \"<ipython-input-12-02e88d1f88b7>\", line 3>\n"
     ]
    }
   ],
   "source": [
    "print(square.__code__)          #The code object representing the compiled function body."
   ]
  },
  {
   "cell_type": "code",
   "execution_count": 20,
   "metadata": {},
   "outputs": [
    {
     "name": "stdout",
     "output_type": "stream",
     "text": [
      "{'__name__': '__main__', '__doc__': 'Automatically created module for IPython interactive environment', '__package__': None, '__loader__': None, '__spec__': None, '__builtin__': <module 'builtins' (built-in)>, '__builtins__': <module 'builtins' (built-in)>, '_ih': ['', 'ord(\"E\")', 'ord(\"e\")', 'ord(\"n\")', 'ord(\"a\")', 'char(\"E\")', 'char(\"69\")', 'char(a)', 'char(69)', 'char(\"69\")', 'chr(\"69\")', 'chr(69)', 'x = 2\\ny = 6\\ndef square (a, b):\\n    return a*b\\nprint(square(x, y))', 'dir(square)', 'print(square.__doc__)', 'print(square.__name__)', 'square.__qualname__', 'square.__module__', 'print(square.__defaults__)', 'print(square.__code__)', 'print(square.__globals__)'], '_oh': {1: 69, 2: 101, 3: 110, 4: 97, 11: 'E', 13: ['__annotations__', '__call__', '__class__', '__closure__', '__code__', '__defaults__', '__delattr__', '__dict__', '__dir__', '__doc__', '__eq__', '__format__', '__ge__', '__get__', '__getattribute__', '__globals__', '__gt__', '__hash__', '__init__', '__init_subclass__', '__kwdefaults__', '__le__', '__lt__', '__module__', '__name__', '__ne__', '__new__', '__qualname__', '__reduce__', '__reduce_ex__', '__repr__', '__setattr__', '__sizeof__', '__str__', '__subclasshook__'], 16: 'square', 17: '__main__'}, '_dh': ['C:\\\\Users\\\\enaid_000'], 'In': ['', 'ord(\"E\")', 'ord(\"e\")', 'ord(\"n\")', 'ord(\"a\")', 'char(\"E\")', 'char(\"69\")', 'char(a)', 'char(69)', 'char(\"69\")', 'chr(\"69\")', 'chr(69)', 'x = 2\\ny = 6\\ndef square (a, b):\\n    return a*b\\nprint(square(x, y))', 'dir(square)', 'print(square.__doc__)', 'print(square.__name__)', 'square.__qualname__', 'square.__module__', 'print(square.__defaults__)', 'print(square.__code__)', 'print(square.__globals__)'], 'Out': {1: 69, 2: 101, 3: 110, 4: 97, 11: 'E', 13: ['__annotations__', '__call__', '__class__', '__closure__', '__code__', '__defaults__', '__delattr__', '__dict__', '__dir__', '__doc__', '__eq__', '__format__', '__ge__', '__get__', '__getattribute__', '__globals__', '__gt__', '__hash__', '__init__', '__init_subclass__', '__kwdefaults__', '__le__', '__lt__', '__module__', '__name__', '__ne__', '__new__', '__qualname__', '__reduce__', '__reduce_ex__', '__repr__', '__setattr__', '__sizeof__', '__str__', '__subclasshook__'], 16: 'square', 17: '__main__'}, 'get_ipython': <bound method InteractiveShell.get_ipython of <ipykernel.zmqshell.ZMQInteractiveShell object at 0x000001998ED539C8>>, 'exit': <IPython.core.autocall.ZMQExitAutocall object at 0x000001998F9420C8>, 'quit': <IPython.core.autocall.ZMQExitAutocall object at 0x000001998F9420C8>, '_': '__main__', '__': 'square', '___': ['__annotations__', '__call__', '__class__', '__closure__', '__code__', '__defaults__', '__delattr__', '__dict__', '__dir__', '__doc__', '__eq__', '__format__', '__ge__', '__get__', '__getattribute__', '__globals__', '__gt__', '__hash__', '__init__', '__init_subclass__', '__kwdefaults__', '__le__', '__lt__', '__module__', '__name__', '__ne__', '__new__', '__qualname__', '__reduce__', '__reduce_ex__', '__repr__', '__setattr__', '__sizeof__', '__str__', '__subclasshook__'], '_i': 'print(square.__code__)', '_ii': 'print(square.__defaults__)', '_iii': 'square.__module__', '_i1': 'ord(\"E\")', '_1': 69, '_i2': 'ord(\"e\")', '_2': 101, '_i3': 'ord(\"n\")', '_3': 110, '_i4': 'ord(\"a\")', '_4': 97, '_i5': 'char(\"E\")', '_i6': 'char(\"69\")', '_i7': 'char(a)', '_i8': 'char(69)', '_i9': 'char(\"69\")', '_i10': 'chr(\"69\")', '_i11': 'chr(69)', '_11': 'E', '_i12': 'x = 2\\ny = 6\\ndef square (a, b):\\n    return a*b\\nprint(square(x, y))', 'x': 2, 'y': 6, 'square': <function square at 0x000001998FA36B88>, '_i13': 'dir(square)', '_13': ['__annotations__', '__call__', '__class__', '__closure__', '__code__', '__defaults__', '__delattr__', '__dict__', '__dir__', '__doc__', '__eq__', '__format__', '__ge__', '__get__', '__getattribute__', '__globals__', '__gt__', '__hash__', '__init__', '__init_subclass__', '__kwdefaults__', '__le__', '__lt__', '__module__', '__name__', '__ne__', '__new__', '__qualname__', '__reduce__', '__reduce_ex__', '__repr__', '__setattr__', '__sizeof__', '__str__', '__subclasshook__'], '_i14': 'print(square.__doc__)', '_i15': 'print(square.__name__)', '_i16': 'square.__qualname__', '_16': 'square', '_i17': 'square.__module__', '_17': '__main__', '_i18': 'print(square.__defaults__)', '_i19': 'print(square.__code__)', '_i20': 'print(square.__globals__)'}\n"
     ]
    }
   ],
   "source": [
    "print(square.__globals__)       #A reference to the dictionary that holds the function’s global variables — the global namespace\n",
    "                                #of the module in which the function was defined"
   ]
  },
  {
   "cell_type": "code",
   "execution_count": 22,
   "metadata": {},
   "outputs": [
    {
     "name": "stdout",
     "output_type": "stream",
     "text": [
      "{}\n"
     ]
    }
   ],
   "source": [
    "square.__dict__                 #The namespace supporting arbitrary function attributes. A dictionary or other mapping object \n",
    "                                #used to store an object’s (writable) attributes."
   ]
  },
  {
   "cell_type": "code",
   "execution_count": 28,
   "metadata": {},
   "outputs": [
    {
     "name": "stdout",
     "output_type": "stream",
     "text": [
      "None\n"
     ]
    }
   ],
   "source": [
    "print(square.__kwdefaults__)   #A dict containing defaults for keyword-only parameters."
   ]
  },
  {
   "cell_type": "code",
   "execution_count": 27,
   "metadata": {},
   "outputs": [
    {
     "data": {
      "text/plain": [
       "{}"
      ]
     },
     "execution_count": 27,
     "metadata": {},
     "output_type": "execute_result"
    }
   ],
   "source": [
    "square.__dict__                #The namespace supporting arbitrary function attributes. A dictionary or other mapping object \n",
    "                               #used to store an object’s (writable) attributes"
   ]
  },
  {
   "cell_type": "code",
   "execution_count": 29,
   "metadata": {},
   "outputs": [
    {
     "name": "stdout",
     "output_type": "stream",
     "text": [
      "None\n"
     ]
    }
   ],
   "source": [
    "print(square.__closure__)      #None or a tuple of cells that contain bindings for the function’s free variables"
   ]
  },
  {
   "cell_type": "code",
   "execution_count": 30,
   "metadata": {},
   "outputs": [
    {
     "data": {
      "text/plain": [
       "{}"
      ]
     },
     "execution_count": 30,
     "metadata": {},
     "output_type": "execute_result"
    }
   ],
   "source": [
    "square.__annotations__         #A dict containing annotations of parameters. The keys of the dict are the parameter names, and\n",
    "                               #'return' for the return annotation, if provided."
   ]
  },
  {
   "cell_type": "code",
   "execution_count": 3,
   "metadata": {},
   "outputs": [
    {
     "name": "stdout",
     "output_type": "stream",
     "text": [
      "<method-wrapper '__getattribute__' of function object at 0x000001BE040543A8>\n"
     ]
    }
   ],
   "source": [
    "print(square.__getattribute__)"
   ]
  },
  {
   "cell_type": "code",
   "execution_count": 3,
   "metadata": {},
   "outputs": [
    {
     "name": "stdout",
     "output_type": "stream",
     "text": [
      "e is 2.718281828459045\n"
     ]
    }
   ],
   "source": [
    "import math\n",
    "print(\"e is %.15f\" %(math.e))"
   ]
  },
  {
   "cell_type": "code",
   "execution_count": 28,
   "metadata": {},
   "outputs": [
    {
     "name": "stdout",
     "output_type": "stream",
     "text": [
      "                                  1971\n",
      "\n",
      "      January                   February                   March\n",
      "Mo Tu We Th Fr Sa Su      Mo Tu We Th Fr Sa Su      Mo Tu We Th Fr Sa Su\n",
      "             1  2  3       1  2  3  4  5  6  7       1  2  3  4  5  6  7\n",
      " 4  5  6  7  8  9 10       8  9 10 11 12 13 14       8  9 10 11 12 13 14\n",
      "11 12 13 14 15 16 17      15 16 17 18 19 20 21      15 16 17 18 19 20 21\n",
      "18 19 20 21 22 23 24      22 23 24 25 26 27 28      22 23 24 25 26 27 28\n",
      "25 26 27 28 29 30 31                                29 30 31\n",
      "\n",
      "       April                      May                       June\n",
      "Mo Tu We Th Fr Sa Su      Mo Tu We Th Fr Sa Su      Mo Tu We Th Fr Sa Su\n",
      "          1  2  3  4                      1  2          1  2  3  4  5  6\n",
      " 5  6  7  8  9 10 11       3  4  5  6  7  8  9       7  8  9 10 11 12 13\n",
      "12 13 14 15 16 17 18      10 11 12 13 14 15 16      14 15 16 17 18 19 20\n",
      "19 20 21 22 23 24 25      17 18 19 20 21 22 23      21 22 23 24 25 26 27\n",
      "26 27 28 29 30            24 25 26 27 28 29 30      28 29 30\n",
      "                          31\n",
      "\n",
      "        July                     August                  September\n",
      "Mo Tu We Th Fr Sa Su      Mo Tu We Th Fr Sa Su      Mo Tu We Th Fr Sa Su\n",
      "          1  2  3  4                         1             1  2  3  4  5\n",
      " 5  6  7  8  9 10 11       2  3  4  5  6  7  8       6  7  8  9 10 11 12\n",
      "12 13 14 15 16 17 18       9 10 11 12 13 14 15      13 14 15 16 17 18 19\n",
      "19 20 21 22 23 24 25      16 17 18 19 20 21 22      20 21 22 23 24 25 26\n",
      "26 27 28 29 30 31         23 24 25 26 27 28 29      27 28 29 30\n",
      "                          30 31\n",
      "\n",
      "      October                   November                  December\n",
      "Mo Tu We Th Fr Sa Su      Mo Tu We Th Fr Sa Su      Mo Tu We Th Fr Sa Su\n",
      "             1  2  3       1  2  3  4  5  6  7             1  2  3  4  5\n",
      " 4  5  6  7  8  9 10       8  9 10 11 12 13 14       6  7  8  9 10 11 12\n",
      "11 12 13 14 15 16 17      15 16 17 18 19 20 21      13 14 15 16 17 18 19\n",
      "18 19 20 21 22 23 24      22 23 24 25 26 27 28      20 21 22 23 24 25 26\n",
      "25 26 27 28 29 30 31      29 30                     27 28 29 30 31\n"
     ]
    }
   ],
   "source": [
    "import calendar\n",
    "calendar.prcal(1971)"
   ]
  },
  {
   "cell_type": "code",
   "execution_count": 35,
   "metadata": {},
   "outputs": [
    {
     "data": {
      "text/plain": [
       "True"
      ]
     },
     "execution_count": 35,
     "metadata": {},
     "output_type": "execute_result"
    }
   ],
   "source": [
    "calendar.isleap(2024)                      #Returns true in the case the given year is a leap year; otherwise, false"
   ]
  },
  {
   "cell_type": "code",
   "execution_count": 39,
   "metadata": {},
   "outputs": [
    {
     "data": {
      "text/plain": [
       "0"
      ]
     },
     "execution_count": 39,
     "metadata": {},
     "output_type": "execute_result"
    }
   ],
   "source": [
    "calendar.firstweekday()                    #Returns the first weekday. It is by default 0, which specifies Monday."
   ]
  },
  {
   "cell_type": "code",
   "execution_count": 44,
   "metadata": {},
   "outputs": [
    {
     "data": {
      "text/plain": [
       "[[0, 0, 0, 1, 2, 3, 4],\n",
       " [5, 6, 7, 8, 9, 10, 11],\n",
       " [12, 13, 14, 15, 16, 17, 18],\n",
       " [19, 20, 21, 22, 23, 24, 25],\n",
       " [26, 27, 28, 29, 30, 31, 0]]"
      ]
     },
     "execution_count": 44,
     "metadata": {},
     "output_type": "execute_result"
    }
   ],
   "source": [
    "calendar.monthcalendar(1971, 7)            #Returns the given month with each week as one list."
   ]
  },
  {
   "cell_type": "code",
   "execution_count": 45,
   "metadata": {},
   "outputs": [
    {
     "data": {
      "text/plain": [
       "13"
      ]
     },
     "execution_count": 45,
     "metadata": {},
     "output_type": "execute_result"
    }
   ],
   "source": [
    "calendar.leapdays(1971, 2021)              #Returns the number of leap days from year1 to year2."
   ]
  },
  {
   "cell_type": "code",
   "execution_count": 46,
   "metadata": {},
   "outputs": [
    {
     "name": "stdout",
     "output_type": "stream",
     "text": [
      "     July 1971\n",
      "Mo Tu We Th Fr Sa Su\n",
      "          1  2  3  4\n",
      " 5  6  7  8  9 10 11\n",
      "12 13 14 15 16 17 18\n",
      "19 20 21 22 23 24 25\n",
      "26 27 28 29 30 31\n"
     ]
    }
   ],
   "source": [
    "calendar.prmonth(1971, 7)                  #Prints the given month of the given year"
   ]
  },
  {
   "cell_type": "code",
   "execution_count": 19,
   "metadata": {},
   "outputs": [
    {
     "name": "stdout",
     "output_type": "stream",
     "text": [
      "This is another 9\n"
     ]
    }
   ],
   "source": [
    "class A:\n",
    "    x = 9\n",
    "w = A()\n",
    "print(\"{0} {1[2]} {2[test]} {3.x}\".format(\"This\", [\"a\", \"or\", \"is\"], {\"test\":\"another\"}, w))"
   ]
  },
  {
   "cell_type": "code",
   "execution_count": 20,
   "metadata": {},
   "outputs": [
    {
     "name": "stdout",
     "output_type": "stream",
     "text": [
      "or This is another 9\n"
     ]
    }
   ],
   "source": [
    "class A:\n",
    "    x = 9\n",
    "w = A()\n",
    "print(\"{1[1]} {0} {1[2]} {2[test]} {3.x}\".format(\"This\", [\"a\", \"or\", \"is\"], {\"test\":\"another\"}, w))"
   ]
  },
  {
   "cell_type": "code",
   "execution_count": 10,
   "metadata": {},
   "outputs": [
    {
     "name": "stdout",
     "output_type": "stream",
     "text": [
      "True\n"
     ]
    }
   ],
   "source": [
    "\"\"\"\"Types affect almost all aspects of object behavior. Even the importance of object identity is affected in some sense: for \n",
    "immutable types, operations that compute new values may actually return a reference to any existing object with the same type \n",
    "and value, while for mutable objects this is not allowed. E.g., after a = 1; b = 1, a and b may or may not refer to the same \n",
    "object with the value one, depending on the implementation, but after c = []; d = [], c and d are guaranteed to refer to two \n",
    "different, unique, newly created empty lists. (Note that c = d = [] assigns the same object to both c and d.)\"\"\"\n",
    "\n",
    "a = 1\n",
    "b = 1\n",
    "print(a is b)"
   ]
  },
  {
   "cell_type": "code",
   "execution_count": 11,
   "metadata": {},
   "outputs": [
    {
     "name": "stdout",
     "output_type": "stream",
     "text": [
      "True\n"
     ]
    }
   ],
   "source": [
    "print(a == b)"
   ]
  },
  {
   "cell_type": "code",
   "execution_count": 12,
   "metadata": {},
   "outputs": [
    {
     "name": "stdout",
     "output_type": "stream",
     "text": [
      "False\n"
     ]
    }
   ],
   "source": [
    "b = 2\n",
    "print(a is b)"
   ]
  },
  {
   "cell_type": "code",
   "execution_count": 13,
   "metadata": {},
   "outputs": [
    {
     "name": "stdout",
     "output_type": "stream",
     "text": [
      "False\n"
     ]
    }
   ],
   "source": [
    "print(a == b)"
   ]
  },
  {
   "cell_type": "code",
   "execution_count": 7,
   "metadata": {},
   "outputs": [
    {
     "name": "stdout",
     "output_type": "stream",
     "text": [
      "False\n"
     ]
    }
   ],
   "source": [
    "c = []\n",
    "d = []\n",
    "print(c is d)"
   ]
  },
  {
   "cell_type": "code",
   "execution_count": 8,
   "metadata": {},
   "outputs": [
    {
     "name": "stdout",
     "output_type": "stream",
     "text": [
      "True\n"
     ]
    }
   ],
   "source": [
    "print(c == d)"
   ]
  },
  {
   "cell_type": "code",
   "execution_count": 15,
   "metadata": {},
   "outputs": [
    {
     "data": {
      "text/plain": [
       "{'y': 2}"
      ]
     },
     "execution_count": 15,
     "metadata": {},
     "output_type": "execute_result"
    }
   ],
   "source": [
    "dict(y = 2)"
   ]
  },
  {
   "cell_type": "code",
   "execution_count": 1,
   "metadata": {},
   "outputs": [
    {
     "name": "stdout",
     "output_type": "stream",
     "text": [
      "False\n",
      "True\n"
     ]
    }
   ],
   "source": [
    "#class can be empty if it has __len__ function that returns zero\n",
    "class myclass:\n",
    "    def __len__(self):\n",
    "        return 0\n",
    "x = myclass()\n",
    "print (bool(x))\n",
    "print(isinstance(x, myclass))"
   ]
  },
  {
   "cell_type": "code",
   "execution_count": 2,
   "metadata": {},
   "outputs": [
    {
     "name": "stdout",
     "output_type": "stream",
     "text": [
      "False\n",
      "True\n"
     ]
    }
   ],
   "source": [
    "class myclass():\n",
    "    def __len__(self):\n",
    "        return 0\n",
    "obj = myclass()\n",
    "print (bool(obj))\n",
    "print (isinstance(obj, myclass))"
   ]
  },
  {
   "cell_type": "markdown",
   "metadata": {},
   "source": [
    "# Markdown language excersise\n",
    "\n",
    "# Bla bla bla\n",
    "## Bla bla bla\n",
    "This is some *plain* _text_ that **forms** a __paragraph__.\n",
    "\n",
    "Paragraphs must be separated by an empty line. \n",
    "\n",
    "* Sometimes we want to include lists. \n",
    "* Which can be bulleted using asterisks. \n",
    "\n",
    "\n",
    "1. Lists can also be numbered. \n",
    "2. If we want an ordered list.\n",
    "\n",
    "[It is possible to include hyperlinks](https://www.example.com)\n",
    "\n",
    "Inline code uses single backticks: `foo()`, and code blocks use triple backticks: \n",
    "```\n",
    "bar()\n",
    "``` \n",
    "Or can be indented by 4 spaces: \n",
    "\n",
    "    foo()\n",
    "    \n",
    "And finally, adding images is easy: ![Slikica](https://www.example.com/image.jpg)\n"
   ]
  },
  {
   "cell_type": "code",
   "execution_count": 8,
   "metadata": {},
   "outputs": [
    {
     "name": "stdout",
     "output_type": "stream",
     "text": [
      "4\n"
     ]
    }
   ],
   "source": [
    "import random\n",
    "print(random.randrange(1,5))"
   ]
  },
  {
   "cell_type": "code",
   "execution_count": 9,
   "metadata": {},
   "outputs": [
    {
     "name": "stdout",
     "output_type": "stream",
     "text": [
      "Before: None\n",
      "Loop 30 30\n",
      "Loop 45 45\n",
      "Loop 90 90\n",
      "Largest 90\n"
     ]
    }
   ],
   "source": [
    "largest = None\n",
    "print ('Before:', largest)\n",
    "for val in [30, 45, 12, 90, 74, 15]:\n",
    "    if largest is None or val>largest:\n",
    "        largest = val\n",
    "        print (\"Loop\", val, largest)\n",
    "print (\"Largest\", largest)"
   ]
  },
  {
   "cell_type": "code",
   "execution_count": 10,
   "metadata": {},
   "outputs": [
    {
     "name": "stdout",
     "output_type": "stream",
     "text": [
      "A    90\n",
      "B    75\n",
      "C    50\n",
      "D    66\n",
      "dtype: int32\n"
     ]
    }
   ],
   "source": [
    "import pandas as pd\n",
    "import numpy as np\n",
    "data = np.array([90, 75, 50, 66])\n",
    "s = pd.Series(data, index = ['A','B','C','D'])\n",
    "print (s)"
   ]
  },
  {
   "cell_type": "code",
   "execution_count": 11,
   "metadata": {},
   "outputs": [
    {
     "name": "stdout",
     "output_type": "stream",
     "text": [
      "    Name  Age\n",
      "0  Mario   27\n",
      "1  Damir   20\n",
      "2   Lina   25\n"
     ]
    }
   ],
   "source": [
    "import pandas as pd\n",
    "data = [[\"Mario\", 27], [\"Damir\", 20], [\"Lina\", 25]]\n",
    "dataframe1 = pd.DataFrame(data, columns = [\"Name\", \"Age\"])\n",
    "print(dataframe1)"
   ]
  },
  {
   "cell_type": "code",
   "execution_count": 12,
   "metadata": {},
   "outputs": [
    {
     "data": {
      "text/html": [
       "<div>\n",
       "<style scoped>\n",
       "    .dataframe tbody tr th:only-of-type {\n",
       "        vertical-align: middle;\n",
       "    }\n",
       "\n",
       "    .dataframe tbody tr th {\n",
       "        vertical-align: top;\n",
       "    }\n",
       "\n",
       "    .dataframe thead th {\n",
       "        text-align: right;\n",
       "    }\n",
       "</style>\n",
       "<table border=\"1\" class=\"dataframe\">\n",
       "  <thead>\n",
       "    <tr style=\"text-align: right;\">\n",
       "      <th></th>\n",
       "      <th>Name</th>\n",
       "      <th>Age</th>\n",
       "    </tr>\n",
       "  </thead>\n",
       "  <tbody>\n",
       "    <tr>\n",
       "      <th>1</th>\n",
       "      <td>Damir</td>\n",
       "      <td>20</td>\n",
       "    </tr>\n",
       "    <tr>\n",
       "      <th>2</th>\n",
       "      <td>Lina</td>\n",
       "      <td>25</td>\n",
       "    </tr>\n",
       "  </tbody>\n",
       "</table>\n",
       "</div>"
      ],
      "text/plain": [
       "    Name  Age\n",
       "1  Damir   20\n",
       "2   Lina   25"
      ]
     },
     "execution_count": 12,
     "metadata": {},
     "output_type": "execute_result"
    }
   ],
   "source": [
    "dataframe1[1:]"
   ]
  },
  {
   "cell_type": "code",
   "execution_count": 13,
   "metadata": {},
   "outputs": [
    {
     "name": "stdout",
     "output_type": "stream",
     "text": [
      "Mery\n",
      "25\n"
     ]
    }
   ],
   "source": [
    "class Person:\n",
    "    def __init__(self, name, age):\n",
    "        self.name = name\n",
    "        self.age = age\n",
    "        \n",
    "p1 = Person(\"Mery\", 25)\n",
    "print(p1.name)\n",
    "print(p1.age)"
   ]
  },
  {
   "cell_type": "code",
   "execution_count": 14,
   "metadata": {},
   "outputs": [
    {
     "name": "stdout",
     "output_type": "stream",
     "text": [
      "Dell Alienware\n",
      "Intel Core i7\n"
     ]
    }
   ],
   "source": [
    "class Laptop:\n",
    "    def __init__(self, name, processor, hdd, ram, cost):\n",
    "        self.name = name\n",
    "        self.processor = processor\n",
    "        self.hdd = hdd\n",
    "        self.ram = ram\n",
    "        self.cost = cost\n",
    "\n",
    "laptop1 = Laptop('Dell Alienware', 'Intel Core i7', 512, 8, 2500.00)\n",
    "\n",
    "print(laptop1.name)\n",
    "print(laptop1.processor)"
   ]
  },
  {
   "cell_type": "code",
   "execution_count": 15,
   "metadata": {},
   "outputs": [
    {
     "name": "stdout",
     "output_type": "stream",
     "text": [
      "1\n",
      "2\n",
      "3\n",
      "4\n",
      "5\n",
      "6\n",
      "7\n",
      "8\n",
      "9\n",
      "10\n",
      "11\n",
      "12\n",
      "13\n",
      "14\n",
      "15\n"
     ]
    }
   ],
   "source": [
    "class MyNumbers:\n",
    "    def __iter__ (self):\n",
    "        self.a = 1\n",
    "        return self\n",
    "    def __next__ (self):\n",
    "        if self.a <= 15:\n",
    "            x = self.a \n",
    "            self.a += 1\n",
    "            return x\n",
    "        else:\n",
    "            raise StopIteration \n",
    "    \n",
    "obj = MyNumbers()\n",
    "myit = iter(obj)\n",
    "for x in myit:\n",
    "    print (x)"
   ]
  },
  {
   "cell_type": "code",
   "execution_count": 16,
   "metadata": {},
   "outputs": [
    {
     "name": "stdout",
     "output_type": "stream",
     "text": [
      "1\n",
      "2\n",
      "3\n",
      "4\n",
      "5\n"
     ]
    }
   ],
   "source": [
    "class MuNumbers:\n",
    "    def __iter__(self):\n",
    "        self.a = 1\n",
    "        return self\n",
    "    def __next__ (self):\n",
    "        x = self.a\n",
    "        self.a += 1\n",
    "        return x\n",
    "obj = MyNumbers()\n",
    "myit = iter(obj)\n",
    "print(next(myit))\n",
    "print(next(myit))\n",
    "print(next(myit))\n",
    "print(next(myit))\n",
    "print(next(myit))"
   ]
  },
  {
   "cell_type": "code",
   "execution_count": 17,
   "metadata": {},
   "outputs": [
    {
     "name": "stdout",
     "output_type": "stream",
     "text": [
      "<turtle.Turtle object at 0x000001E4C4CA6948>\n"
     ]
    }
   ],
   "source": [
    "import turtle\n",
    "bob = turtle.Turtle()\n",
    "print(bob)\n",
    "turtle.mainloop()"
   ]
  },
  {
   "cell_type": "code",
   "execution_count": null,
   "metadata": {},
   "outputs": [],
   "source": []
  }
 ],
 "metadata": {
  "kernelspec": {
   "display_name": "Python 3",
   "language": "python",
   "name": "python3"
  },
  "language_info": {
   "codemirror_mode": {
    "name": "ipython",
    "version": 3
   },
   "file_extension": ".py",
   "mimetype": "text/x-python",
   "name": "python",
   "nbconvert_exporter": "python",
   "pygments_lexer": "ipython3",
   "version": "3.7.6"
  }
 },
 "nbformat": 4,
 "nbformat_minor": 4
}
